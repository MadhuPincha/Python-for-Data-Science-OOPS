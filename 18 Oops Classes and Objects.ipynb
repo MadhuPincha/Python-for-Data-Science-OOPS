{
 "cells": [
  {
   "cell_type": "markdown",
   "metadata": {},
   "source": [
    "## Classes and Objects\n",
    "Class is specification of real world \n",
    "\n",
    "example: a=10, a is varibale of inbuilt class 'int', and so on."
   ]
  },
  {
   "cell_type": "code",
   "execution_count": null,
   "metadata": {},
   "outputs": [],
   "source": []
  },
  {
   "cell_type": "code",
   "execution_count": 3,
   "metadata": {},
   "outputs": [],
   "source": [
    "#create a class\n",
    "class car:\n",
    "    pass"
   ]
  },
  {
   "cell_type": "code",
   "execution_count": 5,
   "metadata": {},
   "outputs": [
    {
     "data": {
      "text/plain": [
       "<__main__.car at 0xed8e4d98d0>"
      ]
     },
     "execution_count": 5,
     "metadata": {},
     "output_type": "execute_result"
    }
   ],
   "source": [
    "#variable or object of class\n",
    "audi=car()\n",
    "audi"
   ]
  },
  {
   "cell_type": "code",
   "execution_count": 10,
   "metadata": {},
   "outputs": [],
   "source": [
    "#variables of variable of class(here audi)\n",
    "audi.year=2020\n",
    "audi.make=345\n",
    "audi.milage=20\n",
    "audi.model='fsds'"
   ]
  },
  {
   "cell_type": "code",
   "execution_count": 7,
   "metadata": {},
   "outputs": [
    {
     "data": {
      "text/plain": [
       "345"
      ]
     },
     "execution_count": 7,
     "metadata": {},
     "output_type": "execute_result"
    }
   ],
   "source": [
    "#extract\n",
    "audi.make"
   ]
  },
  {
   "cell_type": "code",
   "execution_count": 9,
   "metadata": {},
   "outputs": [],
   "source": [
    "#make"
   ]
  },
  {
   "cell_type": "code",
   "execution_count": 11,
   "metadata": {},
   "outputs": [
    {
     "data": {
      "text/plain": [
       "<__main__.car at 0xed88eb26a0>"
      ]
     },
     "execution_count": 11,
     "metadata": {},
     "output_type": "execute_result"
    }
   ],
   "source": [
    "#another variable/object of class\n",
    "nano=car()\n",
    "nano"
   ]
  },
  {
   "cell_type": "code",
   "execution_count": 13,
   "metadata": {},
   "outputs": [],
   "source": [
    "#variables of variable of class(here nano)\n",
    "nano.year=2021\n",
    "nano.make=356\n",
    "nano.milage=20\n",
    "nano.model='data'\n",
    "nano.engineno=466345 #extra variable"
   ]
  },
  {
   "cell_type": "code",
   "execution_count": 16,
   "metadata": {},
   "outputs": [
    {
     "name": "stdout",
     "output_type": "stream",
     "text": [
      "2021 2020\n"
     ]
    }
   ],
   "source": [
    "#extract\n",
    "print(nano.year, audi.year)"
   ]
  },
  {
   "cell_type": "markdown",
   "metadata": {},
   "source": [
    "### its a bad programming practice as there is no reusability of code"
   ]
  },
  {
   "cell_type": "code",
   "execution_count": 26,
   "metadata": {},
   "outputs": [],
   "source": [
    "class car:\n",
    "    def __init__(self, milage, year, make, model):     #inbuilt function of class __ __, used for initialization of data\n",
    "        self.milage=milage                             #self is not a keyword, we can use any name, its a pointer to itself\n",
    "        self.make=make                                 #class has four variables(milage, year, make, model)\n",
    "        self.year=year                                 #self.anything is variable of class which points to class\n",
    "        self.model=model"
   ]
  },
  {
   "cell_type": "code",
   "execution_count": 19,
   "metadata": {},
   "outputs": [],
   "source": [
    "#create object of class car\n",
    "#nano1=car()\n",
    "#TypeError: __init__() missing 4 required positional arguments: 'milage', 'year', 'make', and 'model'"
   ]
  },
  {
   "cell_type": "code",
   "execution_count": 24,
   "metadata": {},
   "outputs": [
    {
     "data": {
      "text/plain": [
       "<__main__.car at 0xed8d8c4eb8>"
      ]
     },
     "execution_count": 24,
     "metadata": {},
     "output_type": "execute_result"
    }
   ],
   "source": [
    "nano1=car(30, 2022, 653, 'new')\n",
    "nano1\n",
    "#when we call this object, it will try to pass these arguments to init function, that's the use of init"
   ]
  },
  {
   "cell_type": "code",
   "execution_count": 22,
   "metadata": {},
   "outputs": [
    {
     "data": {
      "text/plain": [
       "2022"
      ]
     },
     "execution_count": 22,
     "metadata": {},
     "output_type": "execute_result"
    }
   ],
   "source": [
    "#extract data\n",
    "nano1.year"
   ]
  },
  {
   "cell_type": "code",
   "execution_count": 23,
   "metadata": {},
   "outputs": [
    {
     "data": {
      "text/plain": [
       "<__main__.car at 0xed8d8c4ef0>"
      ]
     },
     "execution_count": 23,
     "metadata": {},
     "output_type": "execute_result"
    }
   ],
   "source": [
    "nano2=car(40, 2021, 787, 'old')\n",
    "nano2"
   ]
  },
  {
   "cell_type": "code",
   "execution_count": 25,
   "metadata": {},
   "outputs": [
    {
     "name": "stdout",
     "output_type": "stream",
     "text": [
      "new old\n"
     ]
    }
   ],
   "source": [
    "print(nano1.model, nano2.model)"
   ]
  },
  {
   "cell_type": "markdown",
   "metadata": {},
   "source": [
    "**Note: whenever we define any function inside a class, first argument of that function will always behave as a pointer of that class, and init is inbuilt function used to initialize class, the pointer of which points to class**\n",
    "\n",
    "In case we forget to give pointer as first argument, so  by default whatever be the first argument will be treated as a pointer "
   ]
  },
  {
   "cell_type": "code",
   "execution_count": 32,
   "metadata": {},
   "outputs": [],
   "source": [
    "class car:\n",
    "    def __init__(a, m, y, ma, mo):                #self is not a keyword, just a convention used in std. programmings\n",
    "        a.milage=m                                #here, a=pointer\n",
    "        a.make=ma                                 #class has four variables(milage, year, make, model)\n",
    "        a.year=y                                  #m,y,ma,mo are arguments while, milage, year, make, model are variables of class\n",
    "        a.model=mo"
   ]
  },
  {
   "cell_type": "code",
   "execution_count": 33,
   "metadata": {},
   "outputs": [
    {
     "data": {
      "text/plain": [
       "<__main__.car at 0xed8d8cb240>"
      ]
     },
     "execution_count": 33,
     "metadata": {},
     "output_type": "execute_result"
    }
   ],
   "source": [
    "tata=car(25, 2000, 977, 'tata')\n",
    "tata"
   ]
  },
  {
   "cell_type": "code",
   "execution_count": 34,
   "metadata": {},
   "outputs": [
    {
     "data": {
      "text/plain": [
       "'tata'"
      ]
     },
     "execution_count": 34,
     "metadata": {},
     "output_type": "execute_result"
    }
   ],
   "source": [
    "tata.model"
   ]
  },
  {
   "cell_type": "code",
   "execution_count": 60,
   "metadata": {},
   "outputs": [],
   "source": [
    "class car:\n",
    "    def __init__(self,m,y,ma,mo):\n",
    "        self.milage=m\n",
    "        self.year=y\n",
    "        self.make=ma\n",
    "        self.model=mo\n",
    "    def age(a, current_year):\n",
    "        #return(current_year-self.year)    #when we want to call any variable of class within class but in different method(function): pointer_of_that_function.variable\n",
    "        return(current_year-a.year)        #you must have to use pointer of same method in which you are using any variable\n",
    "                                          #current_year is variable of same method(age), so no need to call it in age using pointer \n",
    "                                        #bcz init will be able to understand 'self', while age will understand 'a'\n",
    "    def mil(m):\n",
    "        return(m.milage, 'is the milage')"
   ]
  },
  {
   "cell_type": "code",
   "execution_count": 61,
   "metadata": {},
   "outputs": [
    {
     "data": {
      "text/plain": [
       "<__main__.car at 0xed8d93f8d0>"
      ]
     },
     "execution_count": 61,
     "metadata": {},
     "output_type": "execute_result"
    }
   ],
   "source": [
    "tata1=car(44, 2000, 424, 'tata1')\n",
    "tata1"
   ]
  },
  {
   "cell_type": "code",
   "execution_count": 62,
   "metadata": {},
   "outputs": [
    {
     "data": {
      "text/plain": [
       "<bound method car.age of <__main__.car object at 0x000000ED8D93F8D0>>"
      ]
     },
     "execution_count": 62,
     "metadata": {},
     "output_type": "execute_result"
    }
   ],
   "source": [
    "#when we want to extract any variable/function which is inside class, we have to do that using object\n",
    "tata1.age"
   ]
  },
  {
   "cell_type": "code",
   "execution_count": 63,
   "metadata": {},
   "outputs": [
    {
     "data": {
      "text/plain": [
       "22"
      ]
     },
     "execution_count": 63,
     "metadata": {},
     "output_type": "execute_result"
    }
   ],
   "source": [
    "tata1.age(2022)     #2022 is argument of function age which is variable of class car"
   ]
  },
  {
   "cell_type": "code",
   "execution_count": 64,
   "metadata": {},
   "outputs": [
    {
     "data": {
      "text/plain": [
       "(44, 'is the milage')"
      ]
     },
     "execution_count": 64,
     "metadata": {},
     "output_type": "execute_result"
    }
   ],
   "source": [
    "tata1.mil()"
   ]
  },
  {
   "cell_type": "code",
   "execution_count": 73,
   "metadata": {},
   "outputs": [],
   "source": [
    "class car:\n",
    "    def __init__(self, milage, year, make, model):     \n",
    "        self.milage=milage                             \n",
    "        self.make=make                                 \n",
    "        self.year=year                                 \n",
    "        self.model=model"
   ]
  },
  {
   "cell_type": "code",
   "execution_count": 74,
   "metadata": {},
   "outputs": [
    {
     "name": "stdout",
     "output_type": "stream",
     "text": [
      "<__main__.car object at 0x000000ED8D91F470>\n"
     ]
    }
   ],
   "source": [
    "maruti=car(23, 1999, 234, 'maruti')\n",
    "maruti\n",
    "print(maruti)\n",
    "#<__main__.car at 0xed8d91f630>\n",
    "#suppose we don't want to print this as msg"
   ]
  },
  {
   "cell_type": "code",
   "execution_count": 75,
   "metadata": {},
   "outputs": [],
   "source": [
    "#inbuilt method of class __str__\n",
    "class car:\n",
    "    def __init__(self, milage, year, make, model):     \n",
    "        self.milage=milage                             \n",
    "        self.make=make                                 \n",
    "        self.year=year                                 \n",
    "        self.model=model\n",
    "        \n",
    "    def __str__(s):                     #__ __ are class inbuilt methods, this will be called at last\n",
    "        return('This is my class CAR')"
   ]
  },
  {
   "cell_type": "code",
   "execution_count": 77,
   "metadata": {},
   "outputs": [
    {
     "name": "stdout",
     "output_type": "stream",
     "text": [
      "This is my class CAR\n"
     ]
    }
   ],
   "source": [
    "maru=car(23, 1999, 234, 'maruti')\n",
    "maru\n",
    "print(maru)"
   ]
  },
  {
   "cell_type": "code",
   "execution_count": 88,
   "metadata": {},
   "outputs": [],
   "source": [
    "class student:\n",
    "    def __init__(self, name, age):\n",
    "        self.name=name\n",
    "        self.age=age\n",
    "    \n",
    "    def name_parsing(n):\n",
    "        if(type(n.name)==list):\n",
    "            for i in n.name:\n",
    "                print('name is ', i)\n",
    "        else:\n",
    "            print('name not in form of list')\n",
    "    def __str__(s):\n",
    "        return('its class student with ages {}'.format(s.age))"
   ]
  },
  {
   "cell_type": "code",
   "execution_count": 89,
   "metadata": {},
   "outputs": [
    {
     "name": "stdout",
     "output_type": "stream",
     "text": [
      "its class student with ages [23, 14]\n"
     ]
    }
   ],
   "source": [
    "madhu=student(['Madhu', 'Saloni'], [23,14])\n",
    "print(madhu)"
   ]
  },
  {
   "cell_type": "code",
   "execution_count": 90,
   "metadata": {},
   "outputs": [
    {
     "name": "stdout",
     "output_type": "stream",
     "text": [
      "name is  Madhu\n",
      "name is  Saloni\n"
     ]
    }
   ],
   "source": [
    "madhu.name_parsing()"
   ]
  },
  {
   "cell_type": "code",
   "execution_count": 91,
   "metadata": {},
   "outputs": [
    {
     "name": "stdout",
     "output_type": "stream",
     "text": [
      "its class student with ages 20\n"
     ]
    }
   ],
   "source": [
    "jay=student('jay', 20)\n",
    "print(jay)"
   ]
  },
  {
   "cell_type": "code",
   "execution_count": 92,
   "metadata": {},
   "outputs": [
    {
     "name": "stdout",
     "output_type": "stream",
     "text": [
      "name not in form of list\n"
     ]
    }
   ],
   "source": [
    "jay.name_parsing()"
   ]
  },
  {
   "cell_type": "code",
   "execution_count": 93,
   "metadata": {},
   "outputs": [
    {
     "data": {
      "text/plain": [
       "'C:\\\\Users\\\\ADMIN\\\\Desktop\\\\MADHU\\\\Courses\\\\Full Stack Data Science iNeuron\\\\Python\\\\by me'"
      ]
     },
     "execution_count": 93,
     "metadata": {},
     "output_type": "execute_result"
    }
   ],
   "source": [
    "pwd()"
   ]
  },
  {
   "cell_type": "code",
   "execution_count": 96,
   "metadata": {},
   "outputs": [
    {
     "data": {
      "text/plain": [
       "['.ipynb_checkpoints',\n",
       " '1 Python Basics .ipynb',\n",
       " '10 dictionary.ipynb',\n",
       " '11 Functions.ipynb',\n",
       " '12 Iterator, Iterable, Generators.ipynb',\n",
       " '13 File Handling.ipynb',\n",
       " '14 Logging and Debugging.ipynb',\n",
       " '16 OOPS.ipynb',\n",
       " '2 Conditionals.ipynb',\n",
       " '3 String Part-1.ipynb',\n",
       " '4 Loops.ipynb',\n",
       " '5 List.ipynb',\n",
       " '6 String Part-2.ipynb',\n",
       " '7 List Manipulation.ipynb',\n",
       " '8 Tuple .ipynb',\n",
       " '9 set.ipynb']"
      ]
     },
     "execution_count": 96,
     "metadata": {},
     "output_type": "execute_result"
    }
   ],
   "source": [
    "import os\n",
    "os.listdir()"
   ]
  },
  {
   "cell_type": "markdown",
   "metadata": {},
   "source": [
    "**QUESTION :**"
   ]
  },
  {
   "cell_type": "code",
   "execution_count": 1,
   "metadata": {},
   "outputs": [],
   "source": [
    "import os\n",
    "import logging as lg\n",
    "class data:\n",
    "    def __init__(self, filename, filetype, date, size):\n",
    "        self.filename=filename\n",
    "        self.filetype=filetype\n",
    "        self.date=date\n",
    "        self.size=size\n",
    "    def fileopen(fo):\n",
    "        try:\n",
    "            #self.filename in os.listdir:\n",
    "            '''f=open(fo.filename, 'w')\n",
    "            f.write('this is first line')\n",
    "            f.close()\n",
    "            \n",
    "            with open(f\"{fo.filename}.txt\", \"w\") as wr\n",
    "            wr.write('first line')'''\n",
    "            \n",
    "            f=open(fo.filename+'.'+fo.filetype, 'w')\n",
    "            f.write(input('Write mode '))\n",
    "            f.close()\n",
    "        except Exception as e:\n",
    "            print('Error is' ,e)\n",
    "            fo.logger(e)    #when we want to call function inside class, pointer.function\n",
    "                            # \"   \"   \"   \"   \"      \"     outside \"   , object.function\n",
    "    def fileread(fr):\n",
    "        try:\n",
    "            f=open(fr.filename+'.'+fr.filetype, 'r')\n",
    "            #f.seek(0)\n",
    "            print(f.read())\n",
    "            f.close()\n",
    "        except Exception as e:\n",
    "            print('Error is' ,e)\n",
    "            fr.logger(e)\n",
    "    def fileappend(fa):\n",
    "        try:\n",
    "            f=open(fa.filename+'.'+fa.filetype, 'a')\n",
    "            f.write(input('Append mode '))\n",
    "            f.close()\n",
    "            f=open(fa.filename+'.'+fa.filetype, 'r')\n",
    "            print(f.read())\n",
    "        except Exception as e:\n",
    "            print('Error is' ,e)\n",
    "            fa.logger(e)\n",
    "            \n",
    "    def logger(l, err):\n",
    "        lg.basicConfig(filename='OOPS.log', level=lg.ERROR)\n",
    "        lg.error(err)\n",
    "        \n",
    "    def __str__(s):\n",
    "        return('Class and Objects')"
   ]
  },
  {
   "cell_type": "code",
   "execution_count": 3,
   "metadata": {},
   "outputs": [
    {
     "name": "stdout",
     "output_type": "stream",
     "text": [
      "Error is [Errno 2] No such file or directory: 'try2.txt'\n"
     ]
    }
   ],
   "source": [
    "trial=data('try2', 'txt', '2022-05-30', '20KB')\n",
    "#trial.fileopen()\n",
    "trial.fileread()\n",
    "#trial.fileappend()"
   ]
  },
  {
   "cell_type": "code",
   "execution_count": null,
   "metadata": {},
   "outputs": [],
   "source": []
  }
 ],
 "metadata": {
  "kernelspec": {
   "display_name": "Python 3",
   "language": "python",
   "name": "python3"
  },
  "language_info": {
   "codemirror_mode": {
    "name": "ipython",
    "version": 3
   },
   "file_extension": ".py",
   "mimetype": "text/x-python",
   "name": "python",
   "nbconvert_exporter": "python",
   "pygments_lexer": "ipython3",
   "version": "3.7.1"
  }
 },
 "nbformat": 4,
 "nbformat_minor": 2
}
