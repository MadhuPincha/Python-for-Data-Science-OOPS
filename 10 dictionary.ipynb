{
 "cells": [
  {
   "cell_type": "markdown",
   "metadata": {},
   "source": [
    "### Dictionary\n",
    "{key:value}\n",
    "\n",
    "keys are unique but values can be same"
   ]
  },
  {
   "cell_type": "code",
   "execution_count": 2,
   "metadata": {},
   "outputs": [
    {
     "data": {
      "text/plain": [
       "dict"
      ]
     },
     "execution_count": 2,
     "metadata": {},
     "output_type": "execute_result"
    }
   ],
   "source": [
    "d={}\n",
    "type(d)"
   ]
  },
  {
   "cell_type": "code",
   "execution_count": 4,
   "metadata": {},
   "outputs": [
    {
     "data": {
      "text/plain": [
       "{'name': 'Madhu', 'age': 23, 'Gender': 'F'}"
      ]
     },
     "execution_count": 4,
     "metadata": {},
     "output_type": "execute_result"
    }
   ],
   "source": [
    "#{key:value}\n",
    "d={'name':'Madhu', 'age':23, 'Gender':'F'}\n",
    "d"
   ]
  },
  {
   "cell_type": "code",
   "execution_count": 5,
   "metadata": {},
   "outputs": [],
   "source": [
    "#in lists we have default keys as 0,1,2..., but here we have to create one"
   ]
  },
  {
   "cell_type": "code",
   "execution_count": 9,
   "metadata": {},
   "outputs": [
    {
     "data": {
      "text/plain": [
       "{'a': 1, 'b': 5, 'c': True}"
      ]
     },
     "execution_count": 9,
     "metadata": {},
     "output_type": "execute_result"
    }
   ],
   "source": [
    "#keys are unique\n",
    "d1={'a':1, 'b':2, 'c':3, 'b':5, 'c':True}\n",
    "d1\n",
    "#for same keys, latest(updated) values will be taken"
   ]
  },
  {
   "cell_type": "code",
   "execution_count": 10,
   "metadata": {},
   "outputs": [
    {
     "data": {
      "text/plain": [
       "{1: 'hi', 2: 'hlo', 3: 'hi'}"
      ]
     },
     "execution_count": 10,
     "metadata": {},
     "output_type": "execute_result"
    }
   ],
   "source": [
    "#values can be same\n",
    "d2={1:'hi', 2:'hlo', 3:'hi'}\n",
    "d2"
   ]
  },
  {
   "cell_type": "code",
   "execution_count": 13,
   "metadata": {},
   "outputs": [
    {
     "data": {
      "text/plain": [
       "{'$': 4}"
      ]
     },
     "execution_count": 13,
     "metadata": {},
     "output_type": "execute_result"
    }
   ],
   "source": [
    "#special characters are not allowed as keys\n",
    "#d3={$:4}\n",
    "#strings are allowed\n",
    "d3={'$':4}\n",
    "d3"
   ]
  },
  {
   "cell_type": "code",
   "execution_count": 16,
   "metadata": {},
   "outputs": [
    {
     "data": {
      "text/plain": [
       "{'a': '$'}"
      ]
     },
     "execution_count": 16,
     "metadata": {},
     "output_type": "execute_result"
    }
   ],
   "source": [
    "#special characters are not allowed as values\n",
    "#d4={'a':$}\n",
    "#strings are allowed\n",
    "d4={'a':'$'}\n",
    "d4"
   ]
  },
  {
   "cell_type": "code",
   "execution_count": 21,
   "metadata": {},
   "outputs": [
    {
     "data": {
      "text/plain": [
       "{'a': [1, 'r'], 'b': 34.5, 'c': (45+1j), 'd': True, 'e': (3, 5, 'u')}"
      ]
     },
     "execution_count": 21,
     "metadata": {},
     "output_type": "execute_result"
    }
   ],
   "source": [
    "#list and tuple in dictionary-->allowed\n",
    "d={'a':[1,'r'], 'b':34.5, 'c':45+1j, 'd':True, 'e':(3,5,'u')}\n",
    "d"
   ]
  },
  {
   "cell_type": "code",
   "execution_count": 24,
   "metadata": {},
   "outputs": [
    {
     "data": {
      "text/plain": [
       "{'a': 2,\n",
       " 'b': 34.5,\n",
       " 'c': (45+7j),\n",
       " 'd': True,\n",
       " 'e': [34, 'j'],\n",
       " 'f': (56, 8, 'p'),\n",
       " 'g': {'aa': 'r', 'bb': [23, 'ju']}}"
      ]
     },
     "execution_count": 24,
     "metadata": {},
     "output_type": "execute_result"
    }
   ],
   "source": [
    "#nested dictionary\n",
    "d={'a':2, 'b':34.5, 'c':45+7j, 'd':True, 'e':[34,'j'], 'f':(56,8,'p'), 'g':{'aa':'r', 'bb':[23,'ju']}}\n",
    "d"
   ]
  },
  {
   "cell_type": "code",
   "execution_count": 35,
   "metadata": {},
   "outputs": [
    {
     "data": {
      "text/plain": [
       "{(2, 3, 6): 'hi'}"
      ]
     },
     "execution_count": 35,
     "metadata": {},
     "output_type": "execute_result"
    }
   ],
   "source": [
    "#keys-->tuples, but not lists, sets, or dictionary\n",
    "\n",
    "#keys as tuple\n",
    "d1={(2,3,6):'hi'}\n",
    "d1"
   ]
  },
  {
   "cell_type": "code",
   "execution_count": 34,
   "metadata": {},
   "outputs": [],
   "source": [
    "#d2={[2,3,6]:'hi'}\n",
    "#TypeError: unhashable type: 'list'\n",
    "#d2"
   ]
  },
  {
   "cell_type": "code",
   "execution_count": 32,
   "metadata": {},
   "outputs": [],
   "source": [
    "#d3={{2,3,6}:'hi'}\n",
    "#TypeError: unhashable type: 'set'\n",
    "#d3"
   ]
  },
  {
   "cell_type": "code",
   "execution_count": 33,
   "metadata": {},
   "outputs": [],
   "source": [
    "#d4={{'a':456}:'hi'}\n",
    "#TypeError: unhashable type: 'dict'\n",
    "#d4"
   ]
  },
  {
   "cell_type": "markdown",
   "metadata": {},
   "source": [
    "### data extraction"
   ]
  },
  {
   "cell_type": "code",
   "execution_count": 36,
   "metadata": {},
   "outputs": [
    {
     "data": {
      "text/plain": [
       "{'a': 2,\n",
       " 'b': 34.5,\n",
       " 'c': (45+7j),\n",
       " 'd': True,\n",
       " 'e': [34, 'j'],\n",
       " 'f': (56, 8, 'p'),\n",
       " 'g': {'aa': 'r', 'bb': [23, 'ju']}}"
      ]
     },
     "execution_count": 36,
     "metadata": {},
     "output_type": "execute_result"
    }
   ],
   "source": [
    "d"
   ]
  },
  {
   "cell_type": "code",
   "execution_count": 37,
   "metadata": {},
   "outputs": [
    {
     "data": {
      "text/plain": [
       "(56, 8, 'p')"
      ]
     },
     "execution_count": 37,
     "metadata": {},
     "output_type": "execute_result"
    }
   ],
   "source": [
    "#(56, 8, 'p')\n",
    "d['f']"
   ]
  },
  {
   "cell_type": "code",
   "execution_count": 57,
   "metadata": {},
   "outputs": [
    {
     "data": {
      "text/plain": [
       "{'aa': 'r', 'bb': [23, 'ju']}"
      ]
     },
     "execution_count": 57,
     "metadata": {},
     "output_type": "execute_result"
    }
   ],
   "source": [
    "#'ju'\n",
    "#as value of 'bb' is a list, and indexes of list are in 0,1,2...\n",
    "d['g']\n",
    "#dictionary"
   ]
  },
  {
   "cell_type": "code",
   "execution_count": 59,
   "metadata": {},
   "outputs": [
    {
     "data": {
      "text/plain": [
       "[23, 'ju']"
      ]
     },
     "execution_count": 59,
     "metadata": {},
     "output_type": "execute_result"
    }
   ],
   "source": [
    "d['g']['bb']\n",
    "#list"
   ]
  },
  {
   "cell_type": "code",
   "execution_count": 61,
   "metadata": {},
   "outputs": [
    {
     "data": {
      "text/plain": [
       "'ju'"
      ]
     },
     "execution_count": 61,
     "metadata": {},
     "output_type": "execute_result"
    }
   ],
   "source": [
    "d['g']['bb'][1]\n",
    "#string"
   ]
  },
  {
   "cell_type": "code",
   "execution_count": 63,
   "metadata": {},
   "outputs": [
    {
     "data": {
      "text/plain": [
       "'j'"
      ]
     },
     "execution_count": 63,
     "metadata": {},
     "output_type": "execute_result"
    }
   ],
   "source": [
    "d['g']['bb'][1][0]\n",
    "#character"
   ]
  },
  {
   "cell_type": "code",
   "execution_count": 52,
   "metadata": {},
   "outputs": [],
   "source": [
    "#d[1]\n",
    "#1 is not key of dict d"
   ]
  },
  {
   "cell_type": "code",
   "execution_count": 53,
   "metadata": {},
   "outputs": [],
   "source": [
    "d1={'1': 2,\n",
    " '2': 34.5,\n",
    " '3': (45+7j),\n",
    " 4: True,\n",
    " 5: [34, 'j'],\n",
    " 6: (56, 8, 'p'),\n",
    " 7: {'aa': 'r', 'bb': [23, 'ju']}}"
   ]
  },
  {
   "cell_type": "code",
   "execution_count": 54,
   "metadata": {},
   "outputs": [
    {
     "data": {
      "text/plain": [
       "True"
      ]
     },
     "execution_count": 54,
     "metadata": {},
     "output_type": "execute_result"
    }
   ],
   "source": [
    "#True\n",
    "d1[4]"
   ]
  },
  {
   "cell_type": "code",
   "execution_count": 55,
   "metadata": {},
   "outputs": [
    {
     "data": {
      "text/plain": [
       "34.5"
      ]
     },
     "execution_count": 55,
     "metadata": {},
     "output_type": "execute_result"
    }
   ],
   "source": [
    "#34.5\n",
    "#d1[2]\n",
    "d1['2']"
   ]
  },
  {
   "cell_type": "code",
   "execution_count": 56,
   "metadata": {},
   "outputs": [
    {
     "data": {
      "text/plain": [
       "23"
      ]
     },
     "execution_count": 56,
     "metadata": {},
     "output_type": "execute_result"
    }
   ],
   "source": [
    "#23\n",
    "d1[7]['bb'][0]"
   ]
  },
  {
   "cell_type": "markdown",
   "metadata": {},
   "source": [
    "### opearations\n"
   ]
  },
  {
   "cell_type": "code",
   "execution_count": 64,
   "metadata": {},
   "outputs": [],
   "source": [
    "d1={'a':1, 'b':2}\n",
    "d2={'c':3, 'd':4, 'a':3}"
   ]
  },
  {
   "cell_type": "code",
   "execution_count": 66,
   "metadata": {},
   "outputs": [],
   "source": [
    "#+\n",
    "#TypeError: unsupported operand type(s) for +: 'dict' and 'dict'\n",
    "#d1+d2"
   ]
  },
  {
   "cell_type": "code",
   "execution_count": 71,
   "metadata": {},
   "outputs": [
    {
     "data": {
      "text/plain": [
       "{'a': 1, 'b': 2}"
      ]
     },
     "execution_count": 71,
     "metadata": {},
     "output_type": "execute_result"
    }
   ],
   "source": [
    "#*\n",
    "d1\n",
    "#TypeError: unsupported operand type(s) for *: 'dict' and 'int'\n",
    "#d1*3\n",
    "#keys are unique"
   ]
  },
  {
   "cell_type": "markdown",
   "metadata": {},
   "source": [
    "### re-assignment operation-->dictionary is mutable object"
   ]
  },
  {
   "cell_type": "code",
   "execution_count": 76,
   "metadata": {},
   "outputs": [
    {
     "data": {
      "text/plain": [
       "{'a': 4, 'b': -4}"
      ]
     },
     "execution_count": 76,
     "metadata": {},
     "output_type": "execute_result"
    }
   ],
   "source": [
    "d1"
   ]
  },
  {
   "cell_type": "code",
   "execution_count": 77,
   "metadata": {},
   "outputs": [
    {
     "data": {
      "text/plain": [
       "{'a': 4, 'b': -4}"
      ]
     },
     "execution_count": 77,
     "metadata": {},
     "output_type": "execute_result"
    }
   ],
   "source": [
    "d1['a']=4\n",
    "d1"
   ]
  },
  {
   "cell_type": "code",
   "execution_count": 78,
   "metadata": {},
   "outputs": [
    {
     "data": {
      "text/plain": [
       "{'a': 4, 'b': -7}"
      ]
     },
     "execution_count": 78,
     "metadata": {},
     "output_type": "execute_result"
    }
   ],
   "source": [
    "#d1['b']=d1['b']-3\n",
    "#OR\n",
    "\n",
    "d1['b']-=3\n",
    "d1"
   ]
  },
  {
   "cell_type": "markdown",
   "metadata": {},
   "source": [
    "### keys and values"
   ]
  },
  {
   "cell_type": "code",
   "execution_count": 79,
   "metadata": {},
   "outputs": [
    {
     "data": {
      "text/plain": [
       "{'a': 2,\n",
       " 'b': 34.5,\n",
       " 'c': (45+7j),\n",
       " 'd': True,\n",
       " 'e': [34, 'j'],\n",
       " 'f': (56, 8, 'p'),\n",
       " 'g': {'aa': 'r', 'bb': [23, 'ju']}}"
      ]
     },
     "execution_count": 79,
     "metadata": {},
     "output_type": "execute_result"
    }
   ],
   "source": [
    "d"
   ]
  },
  {
   "cell_type": "code",
   "execution_count": 81,
   "metadata": {},
   "outputs": [
    {
     "data": {
      "text/plain": [
       "dict_keys(['a', 'b', 'c', 'd', 'e', 'f', 'g'])"
      ]
     },
     "execution_count": 81,
     "metadata": {},
     "output_type": "execute_result"
    }
   ],
   "source": [
    "d.keys()"
   ]
  },
  {
   "cell_type": "code",
   "execution_count": 83,
   "metadata": {},
   "outputs": [
    {
     "data": {
      "text/plain": [
       "dict_values([2, 34.5, (45+7j), True, [34, 'j'], (56, 8, 'p'), {'aa': 'r', 'bb': [23, 'ju']}])"
      ]
     },
     "execution_count": 83,
     "metadata": {},
     "output_type": "execute_result"
    }
   ],
   "source": [
    "d.values()"
   ]
  },
  {
   "cell_type": "markdown",
   "metadata": {},
   "source": [
    "### check"
   ]
  },
  {
   "cell_type": "code",
   "execution_count": 85,
   "metadata": {},
   "outputs": [
    {
     "data": {
      "text/plain": [
       "True"
      ]
     },
     "execution_count": 85,
     "metadata": {},
     "output_type": "execute_result"
    }
   ],
   "source": [
    "'a' in d.keys()"
   ]
  },
  {
   "cell_type": "code",
   "execution_count": 86,
   "metadata": {},
   "outputs": [
    {
     "data": {
      "text/plain": [
       "False"
      ]
     },
     "execution_count": 86,
     "metadata": {},
     "output_type": "execute_result"
    }
   ],
   "source": [
    "1 in d.keys()"
   ]
  },
  {
   "cell_type": "code",
   "execution_count": 87,
   "metadata": {},
   "outputs": [
    {
     "name": "stdout",
     "output_type": "stream",
     "text": [
      "a\n",
      "b\n",
      "c\n",
      "d\n",
      "e\n",
      "f\n",
      "g\n"
     ]
    }
   ],
   "source": [
    "#keys\n",
    "for i in d:\n",
    "    print(i)"
   ]
  },
  {
   "cell_type": "code",
   "execution_count": 88,
   "metadata": {},
   "outputs": [
    {
     "name": "stdout",
     "output_type": "stream",
     "text": [
      "2\n",
      "34.5\n",
      "(45+7j)\n",
      "True\n",
      "[34, 'j']\n",
      "(56, 8, 'p')\n",
      "{'aa': 'r', 'bb': [23, 'ju']}\n"
     ]
    }
   ],
   "source": [
    "#values\n",
    "for i in d:\n",
    "    print(d[i])"
   ]
  },
  {
   "cell_type": "code",
   "execution_count": 89,
   "metadata": {},
   "outputs": [
    {
     "name": "stdout",
     "output_type": "stream",
     "text": [
      "2\n",
      "34.5\n",
      "(45+7j)\n",
      "True\n",
      "[34, 'j']\n",
      "(56, 8, 'p')\n",
      "{'aa': 'r', 'bb': [23, 'ju']}\n"
     ]
    }
   ],
   "source": [
    "#values\n",
    "for i in d.keys():\n",
    "    print(d[i])"
   ]
  },
  {
   "cell_type": "code",
   "execution_count": 91,
   "metadata": {},
   "outputs": [
    {
     "name": "stdout",
     "output_type": "stream",
     "text": [
      "<class 'int'>\n",
      "<class 'float'>\n",
      "<class 'complex'>\n",
      "<class 'bool'>\n",
      "<class 'list'>\n",
      "<class 'tuple'>\n",
      "<class 'dict'>\n"
     ]
    }
   ],
   "source": [
    "#values types\n",
    "for i in d.keys():\n",
    "    print(type(d[i]))"
   ]
  },
  {
   "cell_type": "markdown",
   "metadata": {},
   "source": [
    "### functions in dictionary"
   ]
  },
  {
   "cell_type": "code",
   "execution_count": 127,
   "metadata": {},
   "outputs": [],
   "source": [
    "d={'a': 2,\n",
    " 'b': 34.5,\n",
    " 'c': (45+7j),\n",
    " 'd': True,\n",
    " 'e': [34, 'j'],\n",
    " 'f': (56, 8, 'p'),\n",
    " 'g': {'aa': 'r', 'bb': [23, 'ju']}}"
   ]
  },
  {
   "cell_type": "code",
   "execution_count": 128,
   "metadata": {},
   "outputs": [
    {
     "data": {
      "text/plain": [
       "{'a': 2,\n",
       " 'b': 34.5,\n",
       " 'c': (45+7j),\n",
       " 'd': True,\n",
       " 'e': [34, 'j'],\n",
       " 'f': (56, 8, 'p'),\n",
       " 'g': {'aa': 'r', 'bb': [23, 'ju']}}"
      ]
     },
     "execution_count": 128,
     "metadata": {},
     "output_type": "execute_result"
    }
   ],
   "source": [
    "d"
   ]
  },
  {
   "cell_type": "code",
   "execution_count": 129,
   "metadata": {},
   "outputs": [
    {
     "data": {
      "text/plain": [
       "dict_items([('a', 2), ('b', 34.5), ('c', (45+7j)), ('d', True), ('e', [34, 'j']), ('f', (56, 8, 'p')), ('g', {'aa': 'r', 'bb': [23, 'ju']})])"
      ]
     },
     "execution_count": 129,
     "metadata": {},
     "output_type": "execute_result"
    }
   ],
   "source": [
    "#list of tuples of (key, value) pair\n",
    "d.items()"
   ]
  },
  {
   "cell_type": "code",
   "execution_count": 130,
   "metadata": {},
   "outputs": [
    {
     "data": {
      "text/plain": [
       "dict_items"
      ]
     },
     "execution_count": 130,
     "metadata": {},
     "output_type": "execute_result"
    }
   ],
   "source": [
    "type(d.items())"
   ]
  },
  {
   "cell_type": "code",
   "execution_count": 131,
   "metadata": {},
   "outputs": [
    {
     "data": {
      "text/plain": [
       "7"
      ]
     },
     "execution_count": 131,
     "metadata": {},
     "output_type": "execute_result"
    }
   ],
   "source": [
    "#length of dictionary\n",
    "len(d)"
   ]
  },
  {
   "cell_type": "code",
   "execution_count": 132,
   "metadata": {},
   "outputs": [
    {
     "data": {
      "text/plain": [
       "2"
      ]
     },
     "execution_count": 132,
     "metadata": {},
     "output_type": "execute_result"
    }
   ],
   "source": [
    "#delete\n",
    "d.pop('a')"
   ]
  },
  {
   "cell_type": "code",
   "execution_count": 133,
   "metadata": {},
   "outputs": [
    {
     "data": {
      "text/plain": [
       "{'b': 34.5,\n",
       " 'c': (45+7j),\n",
       " 'd': True,\n",
       " 'e': [34, 'j'],\n",
       " 'f': (56, 8, 'p'),\n",
       " 'g': {'aa': 'r', 'bb': [23, 'ju']}}"
      ]
     },
     "execution_count": 133,
     "metadata": {},
     "output_type": "execute_result"
    }
   ],
   "source": [
    "d"
   ]
  },
  {
   "cell_type": "code",
   "execution_count": 134,
   "metadata": {},
   "outputs": [
    {
     "data": {
      "text/plain": [
       "('g', {'aa': 'r', 'bb': [23, 'ju']})"
      ]
     },
     "execution_count": 134,
     "metadata": {},
     "output_type": "execute_result"
    }
   ],
   "source": [
    "#delets last item\n",
    "d.popitem()"
   ]
  },
  {
   "cell_type": "code",
   "execution_count": 135,
   "metadata": {},
   "outputs": [
    {
     "data": {
      "text/plain": [
       "{'b': 34.5, 'c': (45+7j), 'd': True, 'e': [34, 'j'], 'f': (56, 8, 'p')}"
      ]
     },
     "execution_count": 135,
     "metadata": {},
     "output_type": "execute_result"
    }
   ],
   "source": [
    "d"
   ]
  },
  {
   "cell_type": "code",
   "execution_count": 136,
   "metadata": {},
   "outputs": [],
   "source": [
    "#d.update()"
   ]
  },
  {
   "cell_type": "code",
   "execution_count": 137,
   "metadata": {},
   "outputs": [
    {
     "data": {
      "text/plain": [
       "34.5"
      ]
     },
     "execution_count": 137,
     "metadata": {},
     "output_type": "execute_result"
    }
   ],
   "source": [
    "d.get('b')"
   ]
  },
  {
   "cell_type": "code",
   "execution_count": 138,
   "metadata": {},
   "outputs": [
    {
     "data": {
      "text/plain": [
       "{'b': 34.5, 'c': (45+7j), 'd': True, 'e': [34, 'j'], 'f': (56, 8, 'p')}"
      ]
     },
     "execution_count": 138,
     "metadata": {},
     "output_type": "execute_result"
    }
   ],
   "source": [
    "d"
   ]
  },
  {
   "cell_type": "markdown",
   "metadata": {},
   "source": [
    "**Question**"
   ]
  },
  {
   "cell_type": "code",
   "execution_count": 140,
   "metadata": {},
   "outputs": [
    {
     "name": "stdout",
     "output_type": "stream",
     "text": [
      "Enter a paragraphAs we all know, a paragraph is a group of sentences that are connected and makes absolute sense. While writing a long essay or letter, we break them into paragraphs for better understanding, and to make a well-structured writing piece. Paragraph writing on any topic is not only about expressing your thoughts on the given topic, but it is also about framing ideas about the topic and making it convenient for the readers to follow it. In English paragraph writing, it is essential to focus on the writing style, i.e., the flow and connection between the sentences.  Therefore, a paragraph must be written in simple language in order to avoid any interruption while reading. In order to write a paragraph on any topic, you can refer to the samples given below, and write a paragraph without any hindrance.\n"
     ]
    },
    {
     "data": {
      "text/plain": [
       "'As we all know, a paragraph is a group of sentences that are connected and makes absolute sense. While writing a long essay or letter, we break them into paragraphs for better understanding, and to make a well-structured writing piece. Paragraph writing on any topic is not only about expressing your thoughts on the given topic, but it is also about framing ideas about the topic and making it convenient for the readers to follow it. In English paragraph writing, it is essential to focus on the writing style, i.e., the flow and connection between the sentences.  Therefore, a paragraph must be written in simple language in order to avoid any interruption while reading. In order to write a paragraph on any topic, you can refer to the samples given below, and write a paragraph without any hindrance.'"
      ]
     },
     "execution_count": 140,
     "metadata": {},
     "output_type": "execute_result"
    }
   ],
   "source": [
    "#take paragraph as an input from user\n",
    "i=input('Enter a paragraph')\n",
    "i"
   ]
  },
  {
   "cell_type": "code",
   "execution_count": 141,
   "metadata": {},
   "outputs": [
    {
     "data": {
      "text/plain": [
       "str"
      ]
     },
     "execution_count": 141,
     "metadata": {},
     "output_type": "execute_result"
    }
   ],
   "source": [
    "type(i)"
   ]
  },
  {
   "cell_type": "code",
   "execution_count": 146,
   "metadata": {},
   "outputs": [],
   "source": [
    "#convert into list of words\n",
    "l=i.split()"
   ]
  },
  {
   "cell_type": "code",
   "execution_count": 147,
   "metadata": {},
   "outputs": [
    {
     "data": {
      "text/plain": [
       "['As',\n",
       " 'we',\n",
       " 'all',\n",
       " 'know,',\n",
       " 'a',\n",
       " 'paragraph',\n",
       " 'is',\n",
       " 'a',\n",
       " 'group',\n",
       " 'of',\n",
       " 'sentences',\n",
       " 'that',\n",
       " 'are',\n",
       " 'connected',\n",
       " 'and',\n",
       " 'makes',\n",
       " 'absolute',\n",
       " 'sense.',\n",
       " 'While',\n",
       " 'writing',\n",
       " 'a',\n",
       " 'long',\n",
       " 'essay',\n",
       " 'or',\n",
       " 'letter,',\n",
       " 'we',\n",
       " 'break',\n",
       " 'them',\n",
       " 'into',\n",
       " 'paragraphs',\n",
       " 'for',\n",
       " 'better',\n",
       " 'understanding,',\n",
       " 'and',\n",
       " 'to',\n",
       " 'make',\n",
       " 'a',\n",
       " 'well-structured',\n",
       " 'writing',\n",
       " 'piece.',\n",
       " 'Paragraph',\n",
       " 'writing',\n",
       " 'on',\n",
       " 'any',\n",
       " 'topic',\n",
       " 'is',\n",
       " 'not',\n",
       " 'only',\n",
       " 'about',\n",
       " 'expressing',\n",
       " 'your',\n",
       " 'thoughts',\n",
       " 'on',\n",
       " 'the',\n",
       " 'given',\n",
       " 'topic,',\n",
       " 'but',\n",
       " 'it',\n",
       " 'is',\n",
       " 'also',\n",
       " 'about',\n",
       " 'framing',\n",
       " 'ideas',\n",
       " 'about',\n",
       " 'the',\n",
       " 'topic',\n",
       " 'and',\n",
       " 'making',\n",
       " 'it',\n",
       " 'convenient',\n",
       " 'for',\n",
       " 'the',\n",
       " 'readers',\n",
       " 'to',\n",
       " 'follow',\n",
       " 'it.',\n",
       " 'In',\n",
       " 'English',\n",
       " 'paragraph',\n",
       " 'writing,',\n",
       " 'it',\n",
       " 'is',\n",
       " 'essential',\n",
       " 'to',\n",
       " 'focus',\n",
       " 'on',\n",
       " 'the',\n",
       " 'writing',\n",
       " 'style,',\n",
       " 'i.e.,',\n",
       " 'the',\n",
       " 'flow',\n",
       " 'and',\n",
       " 'connection',\n",
       " 'between',\n",
       " 'the',\n",
       " 'sentences.',\n",
       " 'Therefore,',\n",
       " 'a',\n",
       " 'paragraph',\n",
       " 'must',\n",
       " 'be',\n",
       " 'written',\n",
       " 'in',\n",
       " 'simple',\n",
       " 'language',\n",
       " 'in',\n",
       " 'order',\n",
       " 'to',\n",
       " 'avoid',\n",
       " 'any',\n",
       " 'interruption',\n",
       " 'while',\n",
       " 'reading.',\n",
       " 'In',\n",
       " 'order',\n",
       " 'to',\n",
       " 'write',\n",
       " 'a',\n",
       " 'paragraph',\n",
       " 'on',\n",
       " 'any',\n",
       " 'topic,',\n",
       " 'you',\n",
       " 'can',\n",
       " 'refer',\n",
       " 'to',\n",
       " 'the',\n",
       " 'samples',\n",
       " 'given',\n",
       " 'below,',\n",
       " 'and',\n",
       " 'write',\n",
       " 'a',\n",
       " 'paragraph',\n",
       " 'without',\n",
       " 'any',\n",
       " 'hindrance.']"
      ]
     },
     "execution_count": 147,
     "metadata": {},
     "output_type": "execute_result"
    }
   ],
   "source": [
    "l"
   ]
  },
  {
   "cell_type": "code",
   "execution_count": 148,
   "metadata": {},
   "outputs": [
    {
     "data": {
      "text/plain": [
       "138"
      ]
     },
     "execution_count": 148,
     "metadata": {},
     "output_type": "execute_result"
    }
   ],
   "source": [
    "len(l)"
   ]
  },
  {
   "cell_type": "code",
   "execution_count": 150,
   "metadata": {},
   "outputs": [
    {
     "data": {
      "text/plain": [
       "{'As',\n",
       " 'English',\n",
       " 'In',\n",
       " 'Paragraph',\n",
       " 'Therefore,',\n",
       " 'While',\n",
       " 'a',\n",
       " 'about',\n",
       " 'absolute',\n",
       " 'all',\n",
       " 'also',\n",
       " 'and',\n",
       " 'any',\n",
       " 'are',\n",
       " 'avoid',\n",
       " 'be',\n",
       " 'below,',\n",
       " 'better',\n",
       " 'between',\n",
       " 'break',\n",
       " 'but',\n",
       " 'can',\n",
       " 'connected',\n",
       " 'connection',\n",
       " 'convenient',\n",
       " 'essay',\n",
       " 'essential',\n",
       " 'expressing',\n",
       " 'flow',\n",
       " 'focus',\n",
       " 'follow',\n",
       " 'for',\n",
       " 'framing',\n",
       " 'given',\n",
       " 'group',\n",
       " 'hindrance.',\n",
       " 'i.e.,',\n",
       " 'ideas',\n",
       " 'in',\n",
       " 'interruption',\n",
       " 'into',\n",
       " 'is',\n",
       " 'it',\n",
       " 'it.',\n",
       " 'know,',\n",
       " 'language',\n",
       " 'letter,',\n",
       " 'long',\n",
       " 'make',\n",
       " 'makes',\n",
       " 'making',\n",
       " 'must',\n",
       " 'not',\n",
       " 'of',\n",
       " 'on',\n",
       " 'only',\n",
       " 'or',\n",
       " 'order',\n",
       " 'paragraph',\n",
       " 'paragraphs',\n",
       " 'piece.',\n",
       " 'readers',\n",
       " 'reading.',\n",
       " 'refer',\n",
       " 'samples',\n",
       " 'sense.',\n",
       " 'sentences',\n",
       " 'sentences.',\n",
       " 'simple',\n",
       " 'style,',\n",
       " 'that',\n",
       " 'the',\n",
       " 'them',\n",
       " 'thoughts',\n",
       " 'to',\n",
       " 'topic',\n",
       " 'topic,',\n",
       " 'understanding,',\n",
       " 'we',\n",
       " 'well-structured',\n",
       " 'while',\n",
       " 'without',\n",
       " 'write',\n",
       " 'writing',\n",
       " 'writing,',\n",
       " 'written',\n",
       " 'you',\n",
       " 'your'}"
      ]
     },
     "execution_count": 150,
     "metadata": {},
     "output_type": "execute_result"
    }
   ],
   "source": [
    "#remove duplicates from above list\n",
    "l=set(l)\n",
    "l"
   ]
  },
  {
   "cell_type": "code",
   "execution_count": 151,
   "metadata": {},
   "outputs": [
    {
     "data": {
      "text/plain": [
       "88"
      ]
     },
     "execution_count": 151,
     "metadata": {},
     "output_type": "execute_result"
    }
   ],
   "source": [
    "len(l)"
   ]
  },
  {
   "cell_type": "code",
   "execution_count": 158,
   "metadata": {},
   "outputs": [
    {
     "data": {
      "text/plain": [
       "88"
      ]
     },
     "execution_count": 158,
     "metadata": {},
     "output_type": "execute_result"
    }
   ],
   "source": [
    "keys=l\n",
    "len(keys)"
   ]
  },
  {
   "cell_type": "code",
   "execution_count": 178,
   "metadata": {
    "collapsed": true
   },
   "outputs": [
    {
     "data": {
      "text/plain": [
       "[0,\n",
       " 1,\n",
       " 2,\n",
       " 3,\n",
       " 4,\n",
       " 5,\n",
       " 6,\n",
       " 7,\n",
       " 8,\n",
       " 9,\n",
       " 10,\n",
       " 11,\n",
       " 12,\n",
       " 13,\n",
       " 14,\n",
       " 15,\n",
       " 16,\n",
       " 17,\n",
       " 18,\n",
       " 19,\n",
       " 20,\n",
       " 21,\n",
       " 22,\n",
       " 23,\n",
       " 24,\n",
       " 25,\n",
       " 26,\n",
       " 27,\n",
       " 28,\n",
       " 29,\n",
       " 30,\n",
       " 31,\n",
       " 32,\n",
       " 33,\n",
       " 34,\n",
       " 35,\n",
       " 36,\n",
       " 37,\n",
       " 38,\n",
       " 39,\n",
       " 40,\n",
       " 41,\n",
       " 42,\n",
       " 43,\n",
       " 44,\n",
       " 45,\n",
       " 46,\n",
       " 47,\n",
       " 48,\n",
       " 49,\n",
       " 50,\n",
       " 51,\n",
       " 52,\n",
       " 53,\n",
       " 54,\n",
       " 55,\n",
       " 56,\n",
       " 57,\n",
       " 58,\n",
       " 59,\n",
       " 60,\n",
       " 61,\n",
       " 62,\n",
       " 63,\n",
       " 64,\n",
       " 65,\n",
       " 66,\n",
       " 67,\n",
       " 68,\n",
       " 69,\n",
       " 70,\n",
       " 71,\n",
       " 72,\n",
       " 73,\n",
       " 74,\n",
       " 75,\n",
       " 76,\n",
       " 77,\n",
       " 78,\n",
       " 79,\n",
       " 80,\n",
       " 81,\n",
       " 82,\n",
       " 83,\n",
       " 84,\n",
       " 85,\n",
       " 86,\n",
       " 87]"
      ]
     },
     "execution_count": 178,
     "metadata": {},
     "output_type": "execute_result"
    }
   ],
   "source": [
    "values=list(range(88))\n",
    "len(values)\n",
    "values"
   ]
  },
  {
   "cell_type": "code",
   "execution_count": 202,
   "metadata": {},
   "outputs": [],
   "source": [
    "#mapping\n",
    "d=dict.fromkeys(keys,'Madhu')"
   ]
  },
  {
   "cell_type": "code",
   "execution_count": 203,
   "metadata": {},
   "outputs": [
    {
     "data": {
      "text/plain": [
       "{'break': 'Madhu',\n",
       " 'sentences': 'Madhu',\n",
       " 'makes': 'Madhu',\n",
       " 'While': 'Madhu',\n",
       " 'language': 'Madhu',\n",
       " 'essential': 'Madhu',\n",
       " 'paragraphs': 'Madhu',\n",
       " 'In': 'Madhu',\n",
       " 'English': 'Madhu',\n",
       " 'but': 'Madhu',\n",
       " 'written': 'Madhu',\n",
       " 'sense.': 'Madhu',\n",
       " 'not': 'Madhu',\n",
       " 'given': 'Madhu',\n",
       " 'that': 'Madhu',\n",
       " 'writing': 'Madhu',\n",
       " 'sentences.': 'Madhu',\n",
       " 'and': 'Madhu',\n",
       " 'As': 'Madhu',\n",
       " 'is': 'Madhu',\n",
       " 'it.': 'Madhu',\n",
       " 'long': 'Madhu',\n",
       " 'making': 'Madhu',\n",
       " 'or': 'Madhu',\n",
       " 'well-structured': 'Madhu',\n",
       " 'while': 'Madhu',\n",
       " 'without': 'Madhu',\n",
       " 'framing': 'Madhu',\n",
       " 'your': 'Madhu',\n",
       " 'piece.': 'Madhu',\n",
       " 'simple': 'Madhu',\n",
       " 'focus': 'Madhu',\n",
       " 'flow': 'Madhu',\n",
       " 'better': 'Madhu',\n",
       " 'in': 'Madhu',\n",
       " 'thoughts': 'Madhu',\n",
       " 'we': 'Madhu',\n",
       " 'absolute': 'Madhu',\n",
       " 'Therefore,': 'Madhu',\n",
       " 'readers': 'Madhu',\n",
       " 'to': 'Madhu',\n",
       " 'for': 'Madhu',\n",
       " 'into': 'Madhu',\n",
       " 'order': 'Madhu',\n",
       " 'letter,': 'Madhu',\n",
       " 'any': 'Madhu',\n",
       " 'group': 'Madhu',\n",
       " 'hindrance.': 'Madhu',\n",
       " 'are': 'Madhu',\n",
       " 'make': 'Madhu',\n",
       " 'below,': 'Madhu',\n",
       " 'write': 'Madhu',\n",
       " 'avoid': 'Madhu',\n",
       " 'writing,': 'Madhu',\n",
       " 'know,': 'Madhu',\n",
       " 'convenient': 'Madhu',\n",
       " 'you': 'Madhu',\n",
       " 'about': 'Madhu',\n",
       " 'be': 'Madhu',\n",
       " 'between': 'Madhu',\n",
       " 'topic,': 'Madhu',\n",
       " 'it': 'Madhu',\n",
       " 'i.e.,': 'Madhu',\n",
       " 'must': 'Madhu',\n",
       " 'of': 'Madhu',\n",
       " 'essay': 'Madhu',\n",
       " 'a': 'Madhu',\n",
       " 'interruption': 'Madhu',\n",
       " 'them': 'Madhu',\n",
       " 'connection': 'Madhu',\n",
       " 'connected': 'Madhu',\n",
       " 'the': 'Madhu',\n",
       " 'expressing': 'Madhu',\n",
       " 'reading.': 'Madhu',\n",
       " 'understanding,': 'Madhu',\n",
       " 'only': 'Madhu',\n",
       " 'ideas': 'Madhu',\n",
       " 'samples': 'Madhu',\n",
       " 'paragraph': 'Madhu',\n",
       " 'follow': 'Madhu',\n",
       " 'style,': 'Madhu',\n",
       " 'topic': 'Madhu',\n",
       " 'on': 'Madhu',\n",
       " 'all': 'Madhu',\n",
       " 'refer': 'Madhu',\n",
       " 'Paragraph': 'Madhu',\n",
       " 'can': 'Madhu',\n",
       " 'also': 'Madhu'}"
      ]
     },
     "execution_count": 203,
     "metadata": {},
     "output_type": "execute_result"
    }
   ],
   "source": [
    "d"
   ]
  },
  {
   "cell_type": "code",
   "execution_count": 206,
   "metadata": {},
   "outputs": [
    {
     "data": {
      "text/plain": [
       "dict_items([('break', 'Madhu'), ('sentences', 'Madhu'), ('makes', 'Madhu'), ('While', 'Madhu'), ('language', 'Madhu'), ('essential', 'Madhu'), ('paragraphs', 'Madhu'), ('In', 'Madhu'), ('English', 'Madhu'), ('but', 'Madhu'), ('written', 'Madhu'), ('sense.', 'Madhu'), ('not', 'Madhu'), ('given', 'Madhu'), ('that', 'Madhu'), ('writing', 'Madhu'), ('sentences.', 'Madhu'), ('and', 'Madhu'), ('As', 'Madhu'), ('is', 'Madhu'), ('it.', 'Madhu'), ('long', 'Madhu'), ('making', 'Madhu'), ('or', 'Madhu'), ('well-structured', 'Madhu'), ('while', 'Madhu'), ('without', 'Madhu'), ('framing', 'Madhu'), ('your', 'Madhu'), ('piece.', 'Madhu'), ('simple', 'Madhu'), ('focus', 'Madhu'), ('flow', 'Madhu'), ('better', 'Madhu'), ('in', 'Madhu'), ('thoughts', 'Madhu'), ('we', 'Madhu'), ('absolute', 'Madhu'), ('Therefore,', 'Madhu'), ('readers', 'Madhu'), ('to', 'Madhu'), ('for', 'Madhu'), ('into', 'Madhu'), ('order', 'Madhu'), ('letter,', 'Madhu'), ('any', 'Madhu'), ('group', 'Madhu'), ('hindrance.', 'Madhu'), ('are', 'Madhu'), ('make', 'Madhu'), ('below,', 'Madhu'), ('write', 'Madhu'), ('avoid', 'Madhu'), ('writing,', 'Madhu'), ('know,', 'Madhu'), ('convenient', 'Madhu'), ('you', 'Madhu'), ('about', 'Madhu'), ('be', 'Madhu'), ('between', 'Madhu'), ('topic,', 'Madhu'), ('it', 'Madhu'), ('i.e.,', 'Madhu'), ('must', 'Madhu'), ('of', 'Madhu'), ('essay', 'Madhu'), ('a', 'Madhu'), ('interruption', 'Madhu'), ('them', 'Madhu'), ('connection', 'Madhu'), ('connected', 'Madhu'), ('the', 'Madhu'), ('expressing', 'Madhu'), ('reading.', 'Madhu'), ('understanding,', 'Madhu'), ('only', 'Madhu'), ('ideas', 'Madhu'), ('samples', 'Madhu'), ('paragraph', 'Madhu'), ('follow', 'Madhu'), ('style,', 'Madhu'), ('topic', 'Madhu'), ('on', 'Madhu'), ('all', 'Madhu'), ('refer', 'Madhu'), ('Paragraph', 'Madhu'), ('can', 'Madhu'), ('also', 'Madhu')])"
      ]
     },
     "execution_count": 206,
     "metadata": {},
     "output_type": "execute_result"
    }
   ],
   "source": [
    "d.items()"
   ]
  },
  {
   "cell_type": "code",
   "execution_count": 207,
   "metadata": {},
   "outputs": [
    {
     "data": {
      "text/plain": [
       "('Madhu',\n",
       " 'Madhu',\n",
       " 'Madhu',\n",
       " 'Madhu',\n",
       " 'Madhu',\n",
       " 'Madhu',\n",
       " 'Madhu',\n",
       " 'Madhu',\n",
       " 'Madhu',\n",
       " 'Madhu',\n",
       " 'Madhu',\n",
       " 'Madhu',\n",
       " 'Madhu',\n",
       " 'Madhu',\n",
       " 'Madhu',\n",
       " 'Madhu',\n",
       " 'Madhu',\n",
       " 'Madhu',\n",
       " 'Madhu',\n",
       " 'Madhu',\n",
       " 'Madhu',\n",
       " 'Madhu',\n",
       " 'Madhu',\n",
       " 'Madhu',\n",
       " 'Madhu',\n",
       " 'Madhu',\n",
       " 'Madhu',\n",
       " 'Madhu',\n",
       " 'Madhu',\n",
       " 'Madhu',\n",
       " 'Madhu',\n",
       " 'Madhu',\n",
       " 'Madhu',\n",
       " 'Madhu',\n",
       " 'Madhu',\n",
       " 'Madhu',\n",
       " 'Madhu',\n",
       " 'Madhu',\n",
       " 'Madhu',\n",
       " 'Madhu',\n",
       " 'Madhu',\n",
       " 'Madhu',\n",
       " 'Madhu',\n",
       " 'Madhu',\n",
       " 'Madhu',\n",
       " 'Madhu',\n",
       " 'Madhu',\n",
       " 'Madhu',\n",
       " 'Madhu',\n",
       " 'Madhu',\n",
       " 'Madhu',\n",
       " 'Madhu',\n",
       " 'Madhu',\n",
       " 'Madhu',\n",
       " 'Madhu',\n",
       " 'Madhu',\n",
       " 'Madhu',\n",
       " 'Madhu',\n",
       " 'Madhu',\n",
       " 'Madhu',\n",
       " 'Madhu',\n",
       " 'Madhu',\n",
       " 'Madhu',\n",
       " 'Madhu',\n",
       " 'Madhu',\n",
       " 'Madhu',\n",
       " 'Madhu',\n",
       " 'Madhu',\n",
       " 'Madhu',\n",
       " 'Madhu',\n",
       " 'Madhu',\n",
       " 'Madhu',\n",
       " 'Madhu',\n",
       " 'Madhu',\n",
       " 'Madhu',\n",
       " 'Madhu',\n",
       " 'Madhu',\n",
       " 'Madhu',\n",
       " 'Madhu',\n",
       " 'Madhu',\n",
       " 'Madhu',\n",
       " 'Madhu',\n",
       " 'Madhu',\n",
       " 'Madhu',\n",
       " 'Madhu',\n",
       " 'Madhu',\n",
       " 'Madhu',\n",
       " 'Madhu')"
      ]
     },
     "execution_count": 207,
     "metadata": {},
     "output_type": "execute_result"
    }
   ],
   "source": [
    "tuple(d.values())"
   ]
  },
  {
   "cell_type": "code",
   "execution_count": 209,
   "metadata": {},
   "outputs": [
    {
     "data": {
      "text/plain": [
       "['break',\n",
       " 'sentences',\n",
       " 'makes',\n",
       " 'While',\n",
       " 'language',\n",
       " 'essential',\n",
       " 'paragraphs',\n",
       " 'In',\n",
       " 'English',\n",
       " 'but',\n",
       " 'written',\n",
       " 'sense.',\n",
       " 'not',\n",
       " 'given',\n",
       " 'that',\n",
       " 'writing',\n",
       " 'sentences.',\n",
       " 'and',\n",
       " 'As',\n",
       " 'is',\n",
       " 'it.',\n",
       " 'long',\n",
       " 'making',\n",
       " 'or',\n",
       " 'well-structured',\n",
       " 'while',\n",
       " 'without',\n",
       " 'framing',\n",
       " 'your',\n",
       " 'piece.',\n",
       " 'simple',\n",
       " 'focus',\n",
       " 'flow',\n",
       " 'better',\n",
       " 'in',\n",
       " 'thoughts',\n",
       " 'we',\n",
       " 'absolute',\n",
       " 'Therefore,',\n",
       " 'readers',\n",
       " 'to',\n",
       " 'for',\n",
       " 'into',\n",
       " 'order',\n",
       " 'letter,',\n",
       " 'any',\n",
       " 'group',\n",
       " 'hindrance.',\n",
       " 'are',\n",
       " 'make',\n",
       " 'below,',\n",
       " 'write',\n",
       " 'avoid',\n",
       " 'writing,',\n",
       " 'know,',\n",
       " 'convenient',\n",
       " 'you',\n",
       " 'about',\n",
       " 'be',\n",
       " 'between',\n",
       " 'topic,',\n",
       " 'it',\n",
       " 'i.e.,',\n",
       " 'must',\n",
       " 'of',\n",
       " 'essay',\n",
       " 'a',\n",
       " 'interruption',\n",
       " 'them',\n",
       " 'connection',\n",
       " 'connected',\n",
       " 'the',\n",
       " 'expressing',\n",
       " 'reading.',\n",
       " 'understanding,',\n",
       " 'only',\n",
       " 'ideas',\n",
       " 'samples',\n",
       " 'paragraph',\n",
       " 'follow',\n",
       " 'style,',\n",
       " 'topic',\n",
       " 'on',\n",
       " 'all',\n",
       " 'refer',\n",
       " 'Paragraph',\n",
       " 'can',\n",
       " 'also']"
      ]
     },
     "execution_count": 209,
     "metadata": {},
     "output_type": "execute_result"
    }
   ],
   "source": [
    "list(d.keys())"
   ]
  },
  {
   "cell_type": "markdown",
   "metadata": {},
   "source": [
    "### dictionary comprehenssion"
   ]
  },
  {
   "cell_type": "code",
   "execution_count": 223,
   "metadata": {},
   "outputs": [
    {
     "data": {
      "text/plain": [
       "{1: 1, 2: 4, 3: 9, 4: 16, 5: 25, 6: 36, 7: 49, 8: 64, 9: 81, 10: 100}"
      ]
     },
     "execution_count": 223,
     "metadata": {},
     "output_type": "execute_result"
    }
   ],
   "source": [
    "#dictionary of (number, square)\n",
    "d={}\n",
    "for i in range(1,11):\n",
    "    d[i]=i**2\n",
    "d   "
   ]
  },
  {
   "cell_type": "code",
   "execution_count": 224,
   "metadata": {},
   "outputs": [
    {
     "data": {
      "text/plain": [
       "{1: 1, 2: 4, 3: 9, 4: 16, 5: 25, 6: 36, 7: 49, 8: 64, 9: 81, 10: 100}"
      ]
     },
     "execution_count": 224,
     "metadata": {},
     "output_type": "execute_result"
    }
   ],
   "source": [
    "#using dictionary comprehenssion\n",
    "{i:i**2 for i in range(1,11)}"
   ]
  },
  {
   "cell_type": "code",
   "execution_count": 225,
   "metadata": {},
   "outputs": [
    {
     "data": {
      "text/plain": [
       "{'company': 'ineuron', 'course': 'FSDS', 'year': 2022}"
      ]
     },
     "execution_count": 225,
     "metadata": {},
     "output_type": "execute_result"
    }
   ],
   "source": [
    "d={'company':'ineuron', 'course':'FSDS', 'year':2022}\n",
    "d"
   ]
  },
  {
   "cell_type": "code",
   "execution_count": 226,
   "metadata": {},
   "outputs": [
    {
     "data": {
      "text/plain": [
       "True"
      ]
     },
     "execution_count": 226,
     "metadata": {},
     "output_type": "execute_result"
    }
   ],
   "source": [
    "(d['year']>2021)"
   ]
  },
  {
   "cell_type": "code",
   "execution_count": 227,
   "metadata": {},
   "outputs": [
    {
     "data": {
      "text/plain": [
       "{'company': 'ineuron', 'course': 'FSDS', 'year': 2023}"
      ]
     },
     "execution_count": 227,
     "metadata": {},
     "output_type": "execute_result"
    }
   ],
   "source": [
    "for i in d:\n",
    "    if i=='year':\n",
    "        if d[i]>2022:\n",
    "            print('greater')\n",
    "        else:\n",
    "            d[i]=2023 #update\n",
    "d"
   ]
  },
  {
   "cell_type": "code",
   "execution_count": 228,
   "metadata": {},
   "outputs": [
    {
     "ename": "SyntaxError",
     "evalue": "invalid syntax (<ipython-input-228-7ac57a3077e0>, line 2)",
     "output_type": "error",
     "traceback": [
      "\u001b[1;36m  File \u001b[1;32m\"<ipython-input-228-7ac57a3077e0>\"\u001b[1;36m, line \u001b[1;32m2\u001b[0m\n\u001b[1;33m    {i:d[i] if d[i]=2024 for i in d}\u001b[0m\n\u001b[1;37m                   ^\u001b[0m\n\u001b[1;31mSyntaxError\u001b[0m\u001b[1;31m:\u001b[0m invalid syntax\n"
     ]
    }
   ],
   "source": [
    "#dictionary comprehenssion\n",
    "#{i:d[i] if d[i]=2024 for i in d}"
   ]
  },
  {
   "cell_type": "code",
   "execution_count": 217,
   "metadata": {},
   "outputs": [
    {
     "data": {
      "text/plain": [
       "False"
      ]
     },
     "execution_count": 217,
     "metadata": {},
     "output_type": "execute_result"
    }
   ],
   "source": [
    "len(d['course'])>4"
   ]
  },
  {
   "cell_type": "code",
   "execution_count": null,
   "metadata": {},
   "outputs": [],
   "source": []
  }
 ],
 "metadata": {
  "kernelspec": {
   "display_name": "Python 3",
   "language": "python",
   "name": "python3"
  },
  "language_info": {
   "codemirror_mode": {
    "name": "ipython",
    "version": 3
   },
   "file_extension": ".py",
   "mimetype": "text/x-python",
   "name": "python",
   "nbconvert_exporter": "python",
   "pygments_lexer": "ipython3",
   "version": "3.7.1"
  }
 },
 "nbformat": 4,
 "nbformat_minor": 2
}
