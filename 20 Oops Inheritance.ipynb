{
 "cells": [
  {
   "cell_type": "code",
   "execution_count": 25,
   "metadata": {},
   "outputs": [],
   "source": [
    "#its not necessary to write init method in all functions, its required only when you want to pass some data"
   ]
  },
  {
   "cell_type": "code",
   "execution_count": 1,
   "metadata": {},
   "outputs": [],
   "source": [
    "class test:\n",
    "    def __init__(self,a,b,c,d,e):\n",
    "        self.a=a       #simple public\n",
    "        self._b=b      #_ means protected\n",
    "        self.__c=c     #__ means private\n",
    "        self.d=d\n",
    "        self.e=e\n",
    "    def test_custome(self,v):\n",
    "        return (v, self.a, self._b, self.__c)\n",
    "    def __str__(self):\n",
    "        return('Abstracton !')"
   ]
  },
  {
   "cell_type": "code",
   "execution_count": 13,
   "metadata": {},
   "outputs": [],
   "source": [
    "#inheriting parent class test into child class test1\n",
    "class test1(test):                           #test1 is child class, test is parent class\n",
    "    def __init__(self, j,k, *args):          #init method of child class test1(self is pointer of child class),*args are arguments of test class\n",
    "        super(test1, self).__init__(*args)   #init method of parent class test(self is pointer of parent class)\n",
    "        self.j=j\n",
    "        self.k=k"
   ]
  },
  {
   "cell_type": "code",
   "execution_count": 14,
   "metadata": {},
   "outputs": [
    {
     "data": {
      "text/plain": [
       "<__main__.test1 at 0x7b4a14cda0>"
      ]
     },
     "execution_count": 14,
     "metadata": {},
     "output_type": "execute_result"
    }
   ],
   "source": [
    "m=test1(11, 12, 2, 3, 4, 5, 6) #j=11, k=12, a,b,c,d,e=2,3,4,5,6\n",
    "m"
   ]
  },
  {
   "cell_type": "code",
   "execution_count": 16,
   "metadata": {},
   "outputs": [
    {
     "name": "stdout",
     "output_type": "stream",
     "text": [
      "11 12\n"
     ]
    }
   ],
   "source": [
    "print(m.j, m.k)"
   ]
  },
  {
   "cell_type": "code",
   "execution_count": 22,
   "metadata": {},
   "outputs": [
    {
     "name": "stdout",
     "output_type": "stream",
     "text": [
      "2 3 4 5 6\n"
     ]
    }
   ],
   "source": [
    "print(m.a, m._b, m._test__c, m.d, m.e)"
   ]
  },
  {
   "cell_type": "markdown",
   "metadata": {},
   "source": [
    "### Types of Inheritance:\n",
    "A->B  (Simple inheritance)\n",
    "\n",
    "A,B->C   (Multiple inheritance)\n",
    "\n",
    "A->B,C\n",
    "\n",
    "A->B->C  (Multilevel inheritance)"
   ]
  },
  {
   "cell_type": "markdown",
   "metadata": {},
   "source": [
    "#### Simple inheritance"
   ]
  },
  {
   "cell_type": "code",
   "execution_count": 77,
   "metadata": {},
   "outputs": [
    {
     "data": {
      "text/plain": [
       "\"Age of Madhu is 23 and was born in 1999 details are ('name is ', 'Madhu')\""
      ]
     },
     "execution_count": 77,
     "metadata": {},
     "output_type": "execute_result"
    }
   ],
   "source": [
    "class stu:\n",
    "    name='Madhu'\n",
    "    age=23\n",
    "    def pri(self):\n",
    "        return('name is ',self.name)\n",
    "    \n",
    "class stu1(stu):\n",
    "    def __init__(self):\n",
    "        self.year=1999\n",
    "    def details(self):\n",
    "        return('Age of {} is {} and was born in {} details are {}'.format(self.name, self.age, self.year, self.pri()))\n",
    "    \n",
    "o=stu1()\n",
    "o.details()"
   ]
  },
  {
   "cell_type": "markdown",
   "metadata": {},
   "source": [
    "#### Multiple inheritance"
   ]
  },
  {
   "cell_type": "code",
   "execution_count": 36,
   "metadata": {},
   "outputs": [],
   "source": [
    "#A,B->C\n",
    "\n",
    "class test1:\n",
    "    def __init__(self, a,b):\n",
    "        self.a=a\n",
    "        self.b=b\n",
    "    def a(self,ar1):\n",
    "        return('method of class test1', ar1)\n",
    "    def __str__(self):\n",
    "        return('Class test1')\n",
    "    \n",
    "class test2:\n",
    "    def __init__(self, c,d):\n",
    "        self.c=c\n",
    "        self.d=d\n",
    "    def a(self,ar2):\n",
    "        return('method of class test2', a2r)\n",
    "    def __str__(self):\n",
    "        return('Class test2')\n",
    "    \n",
    "class test3(test1, test2):\n",
    "    def __init__(self, e, *args1):\n",
    "        super(test3, self).__init__(*args1)\n",
    "        self.e=e\n",
    "    \n",
    "    def a(self):\n",
    "        test1.a(9)\n",
    "        test2.a(99)\n",
    "\n",
    "obje=test3()\n",
    "#check it once"
   ]
  },
  {
   "cell_type": "code",
   "execution_count": 63,
   "metadata": {},
   "outputs": [
    {
     "name": "stdout",
     "output_type": "stream",
     "text": [
      "method of class test1\n",
      "method of class test2\n"
     ]
    }
   ],
   "source": [
    "#A,B->C\n",
    "\n",
    "class test1:\n",
    "    def a(self):\n",
    "        print('method of class test1')\n",
    "class test2:\n",
    "    def a(self):\n",
    "        print('method of class test2')\n",
    "class test3():      #this fullfills requrirement but not called inheritance because we didn't inherited any class here\n",
    "    def a(self):\n",
    "        test1.a(self)\n",
    "        test2.a(self)\n",
    "\n",
    "obj=test3()\n",
    "obj.a()"
   ]
  },
  {
   "cell_type": "code",
   "execution_count": 66,
   "metadata": {},
   "outputs": [
    {
     "name": "stdout",
     "output_type": "stream",
     "text": [
      "method of class test1\n"
     ]
    }
   ],
   "source": [
    "#A,B->C\n",
    "\n",
    "class test1:\n",
    "    def a(self):\n",
    "        print('method of class test1')\n",
    "class test2:\n",
    "    def a(self):\n",
    "        print('method of class test2')\n",
    "class test3(test1, test2):\n",
    "    pass\n",
    "obj=test3()\n",
    "obj.a()           #so, here 'a' method of first parent class will be called, not second one\n"
   ]
  },
  {
   "cell_type": "code",
   "execution_count": 90,
   "metadata": {},
   "outputs": [
    {
     "name": "stdout",
     "output_type": "stream",
     "text": [
      "Madhu1\n",
      "age is 22\n"
     ]
    }
   ],
   "source": [
    "#A,B->C\n",
    "#priority is given to class which is inherited first\n",
    "\n",
    "class test1:\n",
    "    name='Madhu1'\n",
    "class test2:\n",
    "    name='Madhu2'\n",
    "    case= True\n",
    "class test3(test1, test2):     #test2 is inherited first\n",
    "    age=22\n",
    "    def __init__(self):\n",
    "        if self.case==True:\n",
    "            print(self.name)\n",
    "        print('age is', self.age)\n",
    "    def __str__(self):\n",
    "        return('Concept of multiple inheritance')\n",
    "obj=test3() "
   ]
  },
  {
   "cell_type": "code",
   "execution_count": 91,
   "metadata": {},
   "outputs": [
    {
     "name": "stdout",
     "output_type": "stream",
     "text": [
      "Madhu2\n",
      "age is 22\n"
     ]
    }
   ],
   "source": [
    "#priority is given to class which is inherited first\n",
    "\n",
    "class test1:\n",
    "    name='Madhu1'\n",
    "class test2:\n",
    "    name='Madhu2'\n",
    "    case= True\n",
    "class test3(test2, test1):   #test2 is inherited first\n",
    "    age=22\n",
    "    def __init__(self):\n",
    "        if self.case==True:\n",
    "            print(self.name)\n",
    "        print('age is', self.age)\n",
    "    def __str__(self):\n",
    "        return('Concept of multiple inheritance')\n",
    "obj=test3() "
   ]
  },
  {
   "cell_type": "markdown",
   "metadata": {},
   "source": [
    "#### Multi-level inheritance"
   ]
  },
  {
   "cell_type": "code",
   "execution_count": 95,
   "metadata": {},
   "outputs": [
    {
     "name": "stdout",
     "output_type": "stream",
     "text": [
      "name is THREE, gender is Female, age is  23, level is 3, company is ineuron\n"
     ]
    }
   ],
   "source": [
    "class one:\n",
    "    name='ONE'\n",
    "    age=23\n",
    "class two(one):    #two inherits one\n",
    "    name='TWO'\n",
    "    gender=\"Female\"\n",
    "    level=2\n",
    "class three(two):  #three inherits two\n",
    "    name=\"THREE\"\n",
    "    level=3\n",
    "    def __init__(self):   #we are able to access variables of class 'one' even after it is not inherited in class 'three', bcz it is inherited by 'two' which is inherited by 'three', so there is indirect inheritance\n",
    "        self.company='ineuron'\n",
    "        print('name is {}, gender is {}, age is  {}, level is {}, company is {}'.format(self.name,self.gender, self.age, self.level, self.company))\n",
    "\n",
    "ob=three()"
   ]
  },
  {
   "cell_type": "code",
   "execution_count": null,
   "metadata": {},
   "outputs": [],
   "source": []
  }
 ],
 "metadata": {
  "kernelspec": {
   "display_name": "Python 3",
   "language": "python",
   "name": "python3"
  },
  "language_info": {
   "codemirror_mode": {
    "name": "ipython",
    "version": 3
   },
   "file_extension": ".py",
   "mimetype": "text/x-python",
   "name": "python",
   "nbconvert_exporter": "python",
   "pygments_lexer": "ipython3",
   "version": "3.7.1"
  }
 },
 "nbformat": 4,
 "nbformat_minor": 2
}
