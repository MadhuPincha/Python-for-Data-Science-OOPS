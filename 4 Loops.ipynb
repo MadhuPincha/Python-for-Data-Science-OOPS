{
 "cells": [
  {
   "cell_type": "markdown",
   "metadata": {},
   "source": [
    "## WHILE loop"
   ]
  },
  {
   "cell_type": "code",
   "execution_count": 1,
   "metadata": {
    "scrolled": true
   },
   "outputs": [
    {
     "name": "stdout",
     "output_type": "stream",
     "text": [
      "0\n",
      "1\n",
      "2\n",
      "3\n",
      "4\n",
      "5\n",
      "6\n",
      "7\n",
      "8\n",
      "9\n",
      "10\n"
     ]
    }
   ],
   "source": [
    "initial_speed, final_spped=0,10\n",
    "#print at every stage your speed increases\n",
    "while(initial_speed<=final_spped): #untill its True\n",
    "    print(initial_speed)\n",
    "    initial_speed=initial_speed+1"
   ]
  },
  {
   "cell_type": "code",
   "execution_count": 2,
   "metadata": {},
   "outputs": [
    {
     "name": "stdout",
     "output_type": "stream",
     "text": [
      "speed\n",
      "speed\n",
      "speed\n",
      "speed\n",
      "speed\n",
      "speed\n",
      "speed\n",
      "speed\n",
      "speed\n",
      "speed\n"
     ]
    }
   ],
   "source": [
    "initial_speed, final_spped=0,10\n",
    "count=1\n",
    "#print speed 10 times\n",
    "while(initial_speed<=final_spped):\n",
    "    print('speed')\n",
    "    count=count+1\n",
    "    if count>10:\n",
    "        break       #breaks the loop\n",
    "        "
   ]
  },
  {
   "cell_type": "markdown",
   "metadata": {},
   "source": [
    "### while-else  (only in python)\n",
    "else will be executed only when whole while is executed successfully"
   ]
  },
  {
   "cell_type": "code",
   "execution_count": 3,
   "metadata": {
    "scrolled": true
   },
   "outputs": [
    {
     "name": "stdout",
     "output_type": "stream",
     "text": [
      "0\n",
      "1\n",
      "2\n",
      "3\n",
      "4\n",
      "5\n",
      "6\n",
      "7\n",
      "8\n",
      "9\n",
      "10\n",
      "out\n"
     ]
    }
   ],
   "source": [
    "initial_speed, final_spped=0,10\n",
    "#print at every stage your speed increases\n",
    "while(initial_speed<=final_spped): #untill its True\n",
    "    print(initial_speed)\n",
    "    initial_speed=initial_speed+1\n",
    "else: print('out')"
   ]
  },
  {
   "cell_type": "code",
   "execution_count": 1,
   "metadata": {},
   "outputs": [
    {
     "name": "stdout",
     "output_type": "stream",
     "text": [
      "while\n",
      "while\n",
      "while\n",
      "while\n"
     ]
    }
   ],
   "source": [
    "initial_speed, final_spped=0,10\n",
    "j=1\n",
    "#print at every stage your speed increases\n",
    "while(initial_speed<=final_spped): #untill its True\n",
    "    print(initial_speed)\n",
    "    initial_speed=initial_speed+1\n",
    "else: \n",
    "    while j<5:\n",
    "        print('while')\n",
    "        j+=1"
   ]
  },
  {
   "cell_type": "markdown",
   "metadata": {},
   "source": [
    "## For loop"
   ]
  },
  {
   "cell_type": "code",
   "execution_count": 5,
   "metadata": {},
   "outputs": [],
   "source": [
    "b='My name is Madhu'"
   ]
  },
  {
   "cell_type": "code",
   "execution_count": 6,
   "metadata": {
    "scrolled": true
   },
   "outputs": [
    {
     "name": "stdout",
     "output_type": "stream",
     "text": [
      "M\n",
      "y\n",
      " \n",
      "n\n",
      "a\n",
      "m\n",
      "e\n",
      " \n",
      "i\n",
      "s\n",
      " \n",
      "M\n",
      "a\n",
      "d\n",
      "h\n",
      "u\n"
     ]
    }
   ],
   "source": [
    "for i in b:\n",
    "    print(i)"
   ]
  },
  {
   "cell_type": "markdown",
   "metadata": {},
   "source": [
    "### for-else\n",
    "else will be executed only when for is exhausted completely(same as while-else)"
   ]
  },
  {
   "cell_type": "code",
   "execution_count": 7,
   "metadata": {},
   "outputs": [
    {
     "name": "stdout",
     "output_type": "stream",
     "text": [
      "M\n",
      "y\n",
      " \n",
      "n\n",
      "a\n",
      "m\n",
      "e\n",
      " \n",
      "i\n",
      "s\n",
      " \n",
      "M\n",
      "a\n",
      "d\n",
      "h\n",
      "u\n",
      "last char was u\n",
      "For loop is exhausted completely\n"
     ]
    }
   ],
   "source": [
    "for i in b:\n",
    "    print(i)\n",
    "else:\n",
    "    if(i=='u'):\n",
    "        print('last char was u')\n",
    "    print('For loop is exhausted completely')"
   ]
  },
  {
   "cell_type": "markdown",
   "metadata": {},
   "source": [
    "#### break\n",
    "comes out of the loop"
   ]
  },
  {
   "cell_type": "code",
   "execution_count": 8,
   "metadata": {},
   "outputs": [
    {
     "name": "stdout",
     "output_type": "stream",
     "text": [
      "M\n",
      "y\n",
      " \n",
      "n\n"
     ]
    }
   ],
   "source": [
    "#if 'for loop' is not exhausted completely, in that case 'else' won't be executed\n",
    "\n",
    "for i in b:\n",
    "    if(i=='a'):\n",
    "        break\n",
    "    print(i)\n",
    "else:\n",
    "    print('For loop is exhausted completely')"
   ]
  },
  {
   "cell_type": "markdown",
   "metadata": {},
   "source": [
    "#### continue\n",
    "whatever is written after continue won't get executed and the control will be redirected to loop"
   ]
  },
  {
   "cell_type": "code",
   "execution_count": 9,
   "metadata": {},
   "outputs": [
    {
     "name": "stdout",
     "output_type": "stream",
     "text": [
      "M\n",
      "y\n",
      " \n",
      "n\n",
      "m\n",
      "e\n",
      " \n",
      "i\n",
      "s\n",
      " \n",
      "M\n",
      "d\n",
      "h\n",
      "u\n",
      "For loop is exhausted completely\n"
     ]
    }
   ],
   "source": [
    "for i in b:\n",
    "    if(i=='a'):    #'a'(try with 'u') is not printed, because its written after 'continue'\n",
    "        continue\n",
    "    print(i)\n",
    "else:\n",
    "    print('For loop is exhausted completely')"
   ]
  },
  {
   "cell_type": "markdown",
   "metadata": {},
   "source": [
    "### range()"
   ]
  },
  {
   "cell_type": "code",
   "execution_count": 10,
   "metadata": {},
   "outputs": [],
   "source": [
    "c=len(b)"
   ]
  },
  {
   "cell_type": "code",
   "execution_count": 11,
   "metadata": {},
   "outputs": [
    {
     "data": {
      "text/plain": [
       "16"
      ]
     },
     "execution_count": 11,
     "metadata": {},
     "output_type": "execute_result"
    }
   ],
   "source": [
    "c"
   ]
  },
  {
   "cell_type": "code",
   "execution_count": 12,
   "metadata": {},
   "outputs": [
    {
     "name": "stdout",
     "output_type": "stream",
     "text": [
      "range(0, 16)\n"
     ]
    }
   ],
   "source": [
    "print(range(c))"
   ]
  },
  {
   "cell_type": "code",
   "execution_count": 13,
   "metadata": {},
   "outputs": [
    {
     "name": "stdout",
     "output_type": "stream",
     "text": [
      "ieuro\n"
     ]
    }
   ],
   "source": [
    "b='ineuron'\n",
    "s=\"\"\n",
    "for i in range(len(b)):\n",
    "    if(b[i]=='n'):\n",
    "        continue\n",
    "    else:\n",
    "        s=s+b[i]\n",
    "print(s)"
   ]
  },
  {
   "cell_type": "markdown",
   "metadata": {},
   "source": [
    "### nested for-loop"
   ]
  },
  {
   "cell_type": "code",
   "execution_count": 14,
   "metadata": {},
   "outputs": [
    {
     "name": "stdout",
     "output_type": "stream",
     "text": [
      "* \n",
      "* * \n",
      "* * * \n",
      "* * * * \n",
      "* * * * * \n",
      "* * * * * * \n",
      "* * * * * * * \n",
      "* * * * * * * * \n",
      "* * * * * * * * * \n",
      "* * * * * * * * * * \n"
     ]
    }
   ],
   "source": [
    "#10-rows, 10-columns, ptint pattern *\n",
    "for i in range(10):\n",
    "    for j in range(i+1):\n",
    "        print('*', end=' ')\n",
    "    print('\\r')\n",
    "#\\n , \\r, end='', \"\", \"  \" etc."
   ]
  },
  {
   "cell_type": "code",
   "execution_count": 15,
   "metadata": {},
   "outputs": [
    {
     "name": "stdout",
     "output_type": "stream",
     "text": [
      "5\n",
      "* * * * * * \n",
      " * * * * * \n",
      "  * * * * \n",
      "   * * * \n",
      "    * * \n",
      "     * \n"
     ]
    }
   ],
   "source": [
    "n=int(input())\n",
    "m=0\n",
    "for i in range(n,-1,-1):       #this loop is for moving up to down\n",
    "    for j in range(0,m):    #this loop is for creating side spaces\n",
    "        print(end=' ')\n",
    "    m=m+1\n",
    "    for j in range(0,i+1):   #this loop is for creating '*' and middle spaces\n",
    "        print('*', end=\" \")\n",
    "    print('\\r')"
   ]
  },
  {
   "cell_type": "code",
   "execution_count": 16,
   "metadata": {},
   "outputs": [
    {
     "name": "stdout",
     "output_type": "stream",
     "text": [
      "enter number of rows6\n",
      "     \n",
      "    1\n",
      "   123\n",
      "  12345\n",
      " 1234567\n",
      "123456789\n"
     ]
    }
   ],
   "source": [
    "n=int(input('enter number of rows'))\n",
    "m=n-1\n",
    "for i in range(n):\n",
    "    num=1\n",
    "    for j in range(m):\n",
    "        print(end=' ')\n",
    "    m=m-1\n",
    "    for j in range(2*i-1):\n",
    "        print(num, end=' ')\n",
    "        num=num+1\n",
    "    print('\\r')"
   ]
  },
  {
   "cell_type": "code",
   "execution_count": 22,
   "metadata": {},
   "outputs": [
    {
     "name": "stdout",
     "output_type": "stream",
     "text": [
      "enter number of rows5\n",
      "         \n",
      "       1 \n",
      "     1 2 3 \n",
      "   1 2 3 4 5 \n",
      " 1 2 3 4 5 6 7 \n"
     ]
    }
   ],
   "source": [
    "n=int(input('enter number of rows'))\n",
    "m=2*n-1\n",
    "for i in range(n):\n",
    "    num=1\n",
    "    for j in range(m):\n",
    "        print(end=' ')\n",
    "    m=m-2\n",
    "    for j in range(2*i-1):\n",
    "        print(num, end=' ')\n",
    "        num=num+1\n",
    "    print('\\r')"
   ]
  },
  {
   "cell_type": "markdown",
   "metadata": {},
   "source": [
    "### while patterns"
   ]
  },
  {
   "cell_type": "code",
   "execution_count": 20,
   "metadata": {},
   "outputs": [
    {
     "name": "stdout",
     "output_type": "stream",
     "text": [
      "enter number of rows = 8\n",
      "        \n",
      "       1\n",
      "      123\n",
      "     12345\n",
      "    1234567\n",
      "   123456789\n",
      "  1234567891011\n",
      " 12345678910111213\n",
      "123456789101112131415\n"
     ]
    }
   ],
   "source": [
    "#do same as above using while loop\n",
    "n=int(input('enter number of rows = '))\n",
    "m=n\n",
    "i=0\n",
    "while(i<=n):\n",
    "    num=1\n",
    "    j=0\n",
    "    while(j<m):\n",
    "        print(end=' ')\n",
    "        j+=1\n",
    "    m=m-1\n",
    "    j=0\n",
    "    while(j<2*i-1):\n",
    "        print(num, end='')\n",
    "        num=num+1\n",
    "        j+=1\n",
    "    print('\\r')\n",
    "    i+=1\n",
    "    "
   ]
  }
 ],
 "metadata": {
  "kernelspec": {
   "display_name": "Python 3",
   "language": "python",
   "name": "python3"
  },
  "language_info": {
   "codemirror_mode": {
    "name": "ipython",
    "version": 3
   },
   "file_extension": ".py",
   "mimetype": "text/x-python",
   "name": "python",
   "nbconvert_exporter": "python",
   "pygments_lexer": "ipython3",
   "version": "3.7.1"
  }
 },
 "nbformat": 4,
 "nbformat_minor": 2
}
