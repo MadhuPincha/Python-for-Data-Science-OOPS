{
 "cells": [
  {
   "cell_type": "code",
   "execution_count": 3,
   "metadata": {},
   "outputs": [
    {
     "data": {
      "text/plain": [
       "'C:\\\\Users\\\\ADMIN\\\\Desktop\\\\MADHU\\\\Courses\\\\Full Stack Data Science iNeuron\\\\Python\\\\by me\\\\exception1'"
      ]
     },
     "execution_count": 3,
     "metadata": {},
     "output_type": "execute_result"
    }
   ],
   "source": [
    "pwd()"
   ]
  },
  {
   "cell_type": "code",
   "execution_count": 4,
   "metadata": {},
   "outputs": [],
   "source": [
    "import logging as lg\n",
    "lg.basicConfig(filename='C:\\\\Users\\\\ADMIN\\\\Desktop\\\\MADHU\\\\Courses\\\\Full Stack Data Science iNeuron\\\\Python\\\\by me\\\\exception1\\\\even.log', level=lg.INFO, format= '%(asctime)s, %(msg)s')\n"
   ]
  },
  {
   "cell_type": "code",
   "execution_count": null,
   "metadata": {},
   "outputs": [],
   "source": [
    "#ANSWER \n",
    "\n",
    "import ex2\n",
    "while True:\n",
    "    try:\n",
    "        n=int(input('enter number '))\n",
    "    except Exception as e:\n",
    "        lg.exception(e)\n",
    "        print('check even.log')\n",
    "    else:\n",
    "        a=ex2.even_num(n)\n",
    "        print(a)\n",
    "        break\n",
    "    finally:\n",
    "        print('Hello even!')"
   ]
  },
  {
   "cell_type": "code",
   "execution_count": null,
   "metadata": {},
   "outputs": [],
   "source": []
  }
 ],
 "metadata": {
  "kernelspec": {
   "display_name": "Python 3",
   "language": "python",
   "name": "python3"
  },
  "language_info": {
   "codemirror_mode": {
    "name": "ipython",
    "version": 3
   },
   "file_extension": ".py",
   "mimetype": "text/x-python",
   "name": "python",
   "nbconvert_exporter": "python",
   "pygments_lexer": "ipython3",
   "version": "3.7.1"
  }
 },
 "nbformat": 4,
 "nbformat_minor": 2
}
