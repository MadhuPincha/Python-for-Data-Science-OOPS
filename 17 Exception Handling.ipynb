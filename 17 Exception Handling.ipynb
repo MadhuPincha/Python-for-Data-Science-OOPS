{
 "cells": [
  {
   "cell_type": "markdown",
   "metadata": {},
   "source": [
    "**We do have to check compile time error before running program, while run-time errors we get after running**\n",
    "\n",
    "We can not handle complile time errors in exception handling"
   ]
  },
  {
   "cell_type": "code",
   "execution_count": 10,
   "metadata": {},
   "outputs": [
    {
     "ename": "FileNotFoundError",
     "evalue": "[Errno 2] No such file or directory: 'madhu.txt'",
     "output_type": "error",
     "traceback": [
      "\u001b[1;31m---------------------------------------------------------------------------\u001b[0m",
      "\u001b[1;31mFileNotFoundError\u001b[0m                         Traceback (most recent call last)",
      "\u001b[1;32m<ipython-input-10-ab928038af01>\u001b[0m in \u001b[0;36m<module>\u001b[1;34m\u001b[0m\n\u001b[1;32m----> 1\u001b[1;33m \u001b[0mf\u001b[0m\u001b[1;33m=\u001b[0m\u001b[0mopen\u001b[0m\u001b[1;33m(\u001b[0m\u001b[1;34m'madhu.txt'\u001b[0m\u001b[1;33m,\u001b[0m \u001b[1;34m'r'\u001b[0m\u001b[1;33m)\u001b[0m\u001b[1;33m\u001b[0m\u001b[1;33m\u001b[0m\u001b[0m\n\u001b[0m\u001b[0;32m      2\u001b[0m \u001b[1;31m#FileNotFoundError: [Errno 2] No such file or directory: 'madhu.txt'\u001b[0m\u001b[1;33m\u001b[0m\u001b[1;33m\u001b[0m\u001b[1;33m\u001b[0m\u001b[0m\n",
      "\u001b[1;31mFileNotFoundError\u001b[0m: [Errno 2] No such file or directory: 'madhu.txt'"
     ]
    }
   ],
   "source": [
    "f=open('madhu.txt', 'r')\n",
    "#FileNotFoundError: [Errno 2] No such file or directory: 'madhu.txt'"
   ]
  },
  {
   "cell_type": "code",
   "execution_count": 14,
   "metadata": {},
   "outputs": [
    {
     "ename": "SyntaxError",
     "evalue": "unexpected EOF while parsing (<ipython-input-14-194840a4c7db>, line 3)",
     "output_type": "error",
     "traceback": [
      "\u001b[1;36m  File \u001b[1;32m\"<ipython-input-14-194840a4c7db>\"\u001b[1;36m, line \u001b[1;32m3\u001b[0m\n\u001b[1;33m    #we can't just write try block bcz it just detects error, but to handle it we have to define except block\u001b[0m\n\u001b[1;37m                                                                                                             ^\u001b[0m\n\u001b[1;31mSyntaxError\u001b[0m\u001b[1;31m:\u001b[0m unexpected EOF while parsing\n"
     ]
    }
   ],
   "source": [
    "try:\n",
    "    f=open('madhu.txt', 'r')\n",
    "#we can't just write try block bcz it just detects error, but to handle it we have to define except block"
   ]
  },
  {
   "cell_type": "code",
   "execution_count": 17,
   "metadata": {},
   "outputs": [],
   "source": [
    "try:\n",
    "    f=open('madhu.txt', 'r')\n",
    "except:\n",
    "        pass\n",
    "    \n",
    "#this time we are not getting error bcz whenever try block detects some error(but not complie time error), it breaks and comes to except block"
   ]
  },
  {
   "cell_type": "code",
   "execution_count": 19,
   "metadata": {},
   "outputs": [
    {
     "ename": "SyntaxError",
     "evalue": "invalid syntax (<ipython-input-19-f5c3addc202f>, line 4)",
     "output_type": "error",
     "traceback": [
      "\u001b[1;36m  File \u001b[1;32m\"<ipython-input-19-f5c3addc202f>\"\u001b[1;36m, line \u001b[1;32m4\u001b[0m\n\u001b[1;33m    except:\u001b[0m\n\u001b[1;37m         ^\u001b[0m\n\u001b[1;31mSyntaxError\u001b[0m\u001b[1;31m:\u001b[0m invalid syntax\n"
     ]
    }
   ],
   "source": [
    "#what if we make some compile time error\n",
    "try:\n",
    "    f=open('madhu.txt', 'r'  #removed )\n",
    "except:\n",
    "        pass\n",
    "           \n",
    "#SyntaxError: invalid syntax"
   ]
  },
  {
   "cell_type": "code",
   "execution_count": 2,
   "metadata": {},
   "outputs": [
    {
     "name": "stdout",
     "output_type": "stream",
     "text": [
      "Error\n"
     ]
    }
   ],
   "source": [
    "#(we can print our own statement in except block, but this is not recommended)\n",
    "try:\n",
    "    f=open('madhu.txt', 'r')\n",
    "except:\n",
    "    print('Error')"
   ]
  },
  {
   "cell_type": "code",
   "execution_count": 8,
   "metadata": {},
   "outputs": [
    {
     "name": "stdout",
     "output_type": "stream",
     "text": [
      "[Errno 2] No such file or directory: 'madhu.txt'\n"
     ]
    }
   ],
   "source": [
    "#to know what is the exact inside try block(we use Exception)\n",
    "try:\n",
    "    f=open('madhu.txt', 'r')\n",
    "except Exception as e:  #e is nothing but just alias for Exception\n",
    "    print(e)"
   ]
  },
  {
   "cell_type": "code",
   "execution_count": 29,
   "metadata": {},
   "outputs": [
    {
     "ename": "ZeroDivisionError",
     "evalue": "division by zero",
     "output_type": "error",
     "traceback": [
      "\u001b[1;31m---------------------------------------------------------------------------\u001b[0m",
      "\u001b[1;31mZeroDivisionError\u001b[0m                         Traceback (most recent call last)",
      "\u001b[1;32m<ipython-input-29-f47dfdf737f4>\u001b[0m in \u001b[0;36m<module>\u001b[1;34m\u001b[0m\n\u001b[0;32m      5\u001b[0m \u001b[1;33m\u001b[0m\u001b[0m\n\u001b[0;32m      6\u001b[0m \u001b[1;32mtry\u001b[0m\u001b[1;33m:\u001b[0m\u001b[1;33m\u001b[0m\u001b[1;33m\u001b[0m\u001b[0m\n\u001b[1;32m----> 7\u001b[1;33m     \u001b[0ma\u001b[0m\u001b[1;33m=\u001b[0m\u001b[1;36m5\u001b[0m\u001b[1;33m/\u001b[0m\u001b[1;36m0\u001b[0m\u001b[1;33m\u001b[0m\u001b[1;33m\u001b[0m\u001b[0m\n\u001b[0m\u001b[0;32m      8\u001b[0m \u001b[1;32mexcept\u001b[0m \u001b[0mIOError\u001b[0m \u001b[1;32mas\u001b[0m \u001b[0me\u001b[0m\u001b[1;33m:\u001b[0m\u001b[1;33m\u001b[0m\u001b[1;33m\u001b[0m\u001b[0m\n\u001b[0;32m      9\u001b[0m     \u001b[0mprint\u001b[0m\u001b[1;33m(\u001b[0m\u001b[0me\u001b[0m\u001b[1;33m)\u001b[0m\u001b[1;33m\u001b[0m\u001b[1;33m\u001b[0m\u001b[0m\n",
      "\u001b[1;31mZeroDivisionError\u001b[0m: division by zero"
     ]
    }
   ],
   "source": [
    "#there are numerous types of errors(we can write any as per our choice say IOError is for input/output kind of mistakes and arithmetic error is for calcualtions)\n",
    "#in Exception module there are sub-modules which are responsible for handling different kinds of errors\n",
    "\n",
    "#Exception is superclass of all the exceptions\n",
    "\n",
    "try:\n",
    "    a=5/0\n",
    "except IOError as e:\n",
    "    print(e)\n",
    "    \n",
    "#ZeroDivisionError: division by zero\n",
    "#we got error as this was not IOError"
   ]
  },
  {
   "cell_type": "code",
   "execution_count": 6,
   "metadata": {},
   "outputs": [
    {
     "name": "stdout",
     "output_type": "stream",
     "text": [
      "division by zero\n"
     ]
    }
   ],
   "source": [
    "try:\n",
    "    a=5/0\n",
    "except ArithmeticError as e:\n",
    "    print(e)\n",
    "\n",
    "#this is arithmetic error"
   ]
  },
  {
   "cell_type": "markdown",
   "metadata": {},
   "source": [
    "**in try block we always use to write suspicious code(we are not sure whether its correct or not), and except block hadles if there is some error inside try block. So these two are necessary to write.\n",
    "Then comes else block which will execute itself once try is executed successfully, else block is optional.\n",
    "finally block will execute itself in any condition**"
   ]
  },
  {
   "cell_type": "code",
   "execution_count": 10,
   "metadata": {},
   "outputs": [
    {
     "name": "stdout",
     "output_type": "stream",
     "text": [
      "division by zero\n"
     ]
    }
   ],
   "source": [
    "try:\n",
    "    a=5/0\n",
    "except Exception as e:\n",
    "    print(e)\n",
    "else:\n",
    "    print('there is no error in try block')"
   ]
  },
  {
   "cell_type": "code",
   "execution_count": 11,
   "metadata": {},
   "outputs": [
    {
     "name": "stdout",
     "output_type": "stream",
     "text": [
      "there is no error in try block\n"
     ]
    }
   ],
   "source": [
    "try:\n",
    "    a=5/4\n",
    "except Exception as e:\n",
    "    print(e)\n",
    "else:\n",
    "    print('there is no error in try block')"
   ]
  },
  {
   "cell_type": "markdown",
   "metadata": {},
   "source": [
    "#### nested try:except"
   ]
  },
  {
   "cell_type": "code",
   "execution_count": 12,
   "metadata": {},
   "outputs": [
    {
     "name": "stdout",
     "output_type": "stream",
     "text": [
      "there is no issue with try block so I would like to open a file in case try is successfully executed. \n"
     ]
    },
    {
     "ename": "FileNotFoundError",
     "evalue": "[Errno 2] No such file or directory: 'madhu.txt'",
     "output_type": "error",
     "traceback": [
      "\u001b[1;31m---------------------------------------------------------------------------\u001b[0m",
      "\u001b[1;31mFileNotFoundError\u001b[0m                         Traceback (most recent call last)",
      "\u001b[1;32m<ipython-input-12-b049a7814b57>\u001b[0m in \u001b[0;36m<module>\u001b[1;34m\u001b[0m\n\u001b[0;32m      5\u001b[0m \u001b[1;32melse\u001b[0m\u001b[1;33m:\u001b[0m\u001b[1;33m\u001b[0m\u001b[1;33m\u001b[0m\u001b[0m\n\u001b[0;32m      6\u001b[0m     \u001b[0mprint\u001b[0m\u001b[1;33m(\u001b[0m\u001b[1;34m'there is no issue with try block so I would like to open a file in case try is successfully executed. '\u001b[0m\u001b[1;33m)\u001b[0m\u001b[1;33m\u001b[0m\u001b[1;33m\u001b[0m\u001b[0m\n\u001b[1;32m----> 7\u001b[1;33m     \u001b[0mf\u001b[0m\u001b[1;33m=\u001b[0m\u001b[0mopen\u001b[0m\u001b[1;33m(\u001b[0m\u001b[1;34m'madhu.txt'\u001b[0m\u001b[1;33m,\u001b[0m \u001b[1;34m'r'\u001b[0m\u001b[1;33m)\u001b[0m\u001b[1;33m\u001b[0m\u001b[1;33m\u001b[0m\u001b[0m\n\u001b[0m",
      "\u001b[1;31mFileNotFoundError\u001b[0m: [Errno 2] No such file or directory: 'madhu.txt'"
     ]
    }
   ],
   "source": [
    "try:\n",
    "    a=5/4\n",
    "except Exception as e:\n",
    "    print(e)\n",
    "else:\n",
    "    print('there is no issue with try block so I would like to open a file in case try is successfully executed. ')\n",
    "    f=open('madhu.txt', 'r')\n",
    "    #FileNotFoundError: [Errno 2] No such file or directory: 'madhu.txt'\n"
   ]
  },
  {
   "cell_type": "code",
   "execution_count": 18,
   "metadata": {},
   "outputs": [
    {
     "name": "stdout",
     "output_type": "stream",
     "text": [
      "numerator5\n",
      "denomenator0\n",
      "Error is =  division by zero\n"
     ]
    }
   ],
   "source": [
    "#nested exeption handling\n",
    "\n",
    "try:\n",
    "    a=int(input('numerator'))\n",
    "    b=int(input('denomenator'))\n",
    "    c=a/b\n",
    "except Exception as e:\n",
    "    print('Error is = ' ,e)\n",
    "    f=open('madhu.txt', 'w')  #if try is executed successfully open file in write mode\n",
    "else:\n",
    "    print('there is no issue with try block so I would like to open a file in read mode if exists. ')\n",
    "    try:\n",
    "        f=open('madhu.txt', 'r')  #if try is not executed successfully open file in read mode if present otherwise throw error\n",
    "    except Exception  as e:\n",
    "        print('Error is = ' ,e)"
   ]
  },
  {
   "cell_type": "code",
   "execution_count": 20,
   "metadata": {},
   "outputs": [
    {
     "name": "stdout",
     "output_type": "stream",
     "text": [
      "numerator45\n",
      "denomenator4\n",
      "there is no issue with try block so I would like to open a file in read mode if exists. \n",
      "Hello all!\n"
     ]
    }
   ],
   "source": [
    "try:\n",
    "    a=int(input('numerator'))\n",
    "    b=int(input('denomenator'))\n",
    "    c=a/b\n",
    "except Exception as e:\n",
    "    print('Error is = ' ,e)\n",
    "    f=open('madhu.txt', 'w')  #if try is executed successfully open file in write mode\n",
    "else:\n",
    "    print('there is no issue with try block so I would like to open a file in read mode if exists. ')\n",
    "    try:\n",
    "        f=open('madhu.txt', 'r')  #if try is not executed successfully open file in read mode if present otherwise throw error\n",
    "    except Exception  as e:\n",
    "        print('Error is = ' ,e)\n",
    "finally:\n",
    "    print('Hello all!')"
   ]
  },
  {
   "cell_type": "code",
   "execution_count": 28,
   "metadata": {},
   "outputs": [
    {
     "name": "stdout",
     "output_type": "stream",
     "text": [
      "I will execute myself in any case\n"
     ]
    },
    {
     "ename": "ZeroDivisionError",
     "evalue": "division by zero",
     "output_type": "error",
     "traceback": [
      "\u001b[1;31m---------------------------------------------------------------------------\u001b[0m",
      "\u001b[1;31mZeroDivisionError\u001b[0m                         Traceback (most recent call last)",
      "\u001b[1;32m<ipython-input-28-41e17330755a>\u001b[0m in \u001b[0;36m<module>\u001b[1;34m\u001b[0m\n\u001b[0;32m      1\u001b[0m \u001b[1;32mtry\u001b[0m\u001b[1;33m:\u001b[0m\u001b[1;33m\u001b[0m\u001b[1;33m\u001b[0m\u001b[0m\n\u001b[1;32m----> 2\u001b[1;33m     \u001b[0ma\u001b[0m\u001b[1;33m=\u001b[0m\u001b[1;36m5\u001b[0m\u001b[1;33m/\u001b[0m\u001b[1;36m0\u001b[0m\u001b[1;33m\u001b[0m\u001b[1;33m\u001b[0m\u001b[0m\n\u001b[0m\u001b[0;32m      3\u001b[0m \u001b[1;32mfinally\u001b[0m\u001b[1;33m:\u001b[0m\u001b[1;33m\u001b[0m\u001b[1;33m\u001b[0m\u001b[0m\n\u001b[0;32m      4\u001b[0m     \u001b[0mprint\u001b[0m\u001b[1;33m(\u001b[0m\u001b[1;34m'I will execute myself in any case'\u001b[0m\u001b[1;33m)\u001b[0m    \u001b[1;31m#even if except block is not present\u001b[0m\u001b[1;33m\u001b[0m\u001b[1;33m\u001b[0m\u001b[0m\n",
      "\u001b[1;31mZeroDivisionError\u001b[0m: division by zero"
     ]
    }
   ],
   "source": [
    "try:\n",
    "    a=5/0\n",
    "finally:\n",
    "    print('I will execute myself in any case')    #even if except block is not present"
   ]
  },
  {
   "cell_type": "markdown",
   "metadata": {},
   "source": [
    "#### if try executes itself successfully it will be directed to else block(if present), if there is some error in try block, then it will be directed to except block, and whatever happens, independent of all finally block will get executed"
   ]
  },
  {
   "cell_type": "code",
   "execution_count": 21,
   "metadata": {},
   "outputs": [],
   "source": [
    "#some more examples"
   ]
  },
  {
   "cell_type": "code",
   "execution_count": 23,
   "metadata": {},
   "outputs": [
    {
     "ename": "IndexError",
     "evalue": "list index out of range",
     "output_type": "error",
     "traceback": [
      "\u001b[1;31m---------------------------------------------------------------------------\u001b[0m",
      "\u001b[1;31mIndexError\u001b[0m                                Traceback (most recent call last)",
      "\u001b[1;32m<ipython-input-23-167996de5684>\u001b[0m in \u001b[0;36m<module>\u001b[1;34m\u001b[0m\n\u001b[0;32m      1\u001b[0m \u001b[0ml\u001b[0m\u001b[1;33m=\u001b[0m\u001b[1;33m[\u001b[0m\u001b[1;36m2\u001b[0m\u001b[1;33m,\u001b[0m\u001b[1;36m3\u001b[0m\u001b[1;33m,\u001b[0m\u001b[1;36m5\u001b[0m\u001b[1;33m,\u001b[0m\u001b[1;36m6\u001b[0m\u001b[1;33m]\u001b[0m\u001b[1;33m\u001b[0m\u001b[1;33m\u001b[0m\u001b[0m\n\u001b[1;32m----> 2\u001b[1;33m \u001b[0ml\u001b[0m\u001b[1;33m[\u001b[0m\u001b[1;36m10\u001b[0m\u001b[1;33m]\u001b[0m  \u001b[1;31m#10th index\u001b[0m\u001b[1;33m\u001b[0m\u001b[1;33m\u001b[0m\u001b[0m\n\u001b[0m\u001b[0;32m      3\u001b[0m \u001b[0mt\u001b[0m\u001b[1;33m=\u001b[0m\u001b[1;33m(\u001b[0m\u001b[1;36m1\u001b[0m\u001b[1;33m,\u001b[0m\u001b[1;36m2\u001b[0m\u001b[1;33m,\u001b[0m\u001b[1;36m3\u001b[0m\u001b[1;33m,\u001b[0m\u001b[1;36m4\u001b[0m\u001b[1;33m)\u001b[0m\u001b[1;33m\u001b[0m\u001b[1;33m\u001b[0m\u001b[0m\n\u001b[0;32m      4\u001b[0m \u001b[0mprint\u001b[0m\u001b[1;33m(\u001b[0m\u001b[0mt\u001b[0m\u001b[1;33m)\u001b[0m\u001b[1;33m\u001b[0m\u001b[1;33m\u001b[0m\u001b[0m\n\u001b[0;32m      5\u001b[0m \u001b[1;33m\u001b[0m\u001b[0m\n",
      "\u001b[1;31mIndexError\u001b[0m: list index out of range"
     ]
    }
   ],
   "source": [
    "l=[2,3,5,6]\n",
    "l[10]  #10th index\n",
    "t=(1,2,3,4)\n",
    "print(t)\n",
    "\n",
    "#IndexError: list index out of range\n",
    "#when we run this code it will stop at line 2 and further code won't be executed"
   ]
  },
  {
   "cell_type": "code",
   "execution_count": 26,
   "metadata": {},
   "outputs": [
    {
     "name": "stdout",
     "output_type": "stream",
     "text": [
      "list index out of range\n",
      "tuple is  (1, 2, 3, 4)\n"
     ]
    }
   ],
   "source": [
    "#so we can use exception handling\n",
    "try:\n",
    "    l=[2,3,5,6]\n",
    "    l[10]  #10th index\n",
    "except Exception as e:\n",
    "    print(e)\n",
    "    t=(1,2,3,4)\n",
    "    print('tuple is ',t)\n",
    "else:\n",
    "    print('there is no issue with try block')\n"
   ]
  },
  {
   "cell_type": "code",
   "execution_count": 34,
   "metadata": {},
   "outputs": [
    {
     "name": "stdout",
     "output_type": "stream",
     "text": [
      "Enter an integer er\n",
      "invalid literal for int() with base 10: 'er'\n",
      "in any case I will be there \n",
      "\n",
      "Enter an integer f\n",
      "invalid literal for int() with base 10: 'f'\n",
      "in any case I will be there \n",
      "\n",
      "Enter an integer fr\n",
      "invalid literal for int() with base 10: 'fr'\n",
      "in any case I will be there \n",
      "\n",
      "Enter an integer 5\n",
      "try is successfull\n",
      "in any case I will be there \n",
      "\n"
     ]
    }
   ],
   "source": [
    "def askforint():\n",
    "    while(True):\n",
    "        try:\n",
    "            n=int(input('Enter an integer '))\n",
    "        except Exception as e:\n",
    "            print(e)\n",
    "        else:\n",
    "            print('try is successfull')\n",
    "            break\n",
    "        finally:\n",
    "            print('in any case I will be there \\n')\n",
    "askforint()"
   ]
  },
  {
   "cell_type": "code",
   "execution_count": null,
   "metadata": {},
   "outputs": [],
   "source": [
    "def askforint():\n",
    "    while(True):\n",
    "        try:\n",
    "            n=int(input('Enter an integer '))\n",
    "        except Exception as e:\n",
    "            print(e)\n",
    "        else:\n",
    "            print('try is successfull')\n",
    "            break\n",
    "        finally:\n",
    "            print('in any case I will be there \\n')\n",
    "askforint()"
   ]
  },
  {
   "cell_type": "code",
   "execution_count": 5,
   "metadata": {},
   "outputs": [
    {
     "name": "stdout",
     "output_type": "stream",
     "text": [
      "Enter an integer vhjkvh\n",
      "ValueError =  invalid literal for int() with base 10: 'vhjkvh'\n",
      "in any case I will be there \n",
      "\n",
      "Enter an integer 8\n",
      "try is successfull\n",
      "in any case I will be there \n",
      "\n"
     ]
    }
   ],
   "source": [
    "#there can be multiple except blocks\n",
    "\n",
    "def askforint():\n",
    "    while(True):\n",
    "        try:\n",
    "            a=int(input('Enter an integer '))\n",
    "            b=4/a\n",
    "        except IOError as e:\n",
    "            print('IOError = ',e)\n",
    "        except ValueError as e:\n",
    "            print('ValueError = ',e)\n",
    "        except FileNotFoundError as e:\n",
    "            print('FileNotFoundError = ',e)\n",
    "        else:\n",
    "            print('try is successfull')\n",
    "            break\n",
    "        finally:\n",
    "            print('in any case I will be there \\n')\n",
    "askforint()\n",
    "\n",
    "#now try with input 0, even after we have except block in our code, we are still getting error, this is bcz we haven't added the kind of exception we are facing(that is, ArithmeticError)"
   ]
  },
  {
   "cell_type": "code",
   "execution_count": 6,
   "metadata": {},
   "outputs": [
    {
     "name": "stdout",
     "output_type": "stream",
     "text": [
      "Enter an integer 0\n",
      "ArithmeticError =  division by zero\n",
      "in any case I will be there \n",
      "\n",
      "Enter an integer  jjfj\n",
      "ValueError =  invalid literal for int() with base 10: ' jjfj'\n",
      "in any case I will be there \n",
      "\n",
      "Enter an integer 6\n",
      "try is successfull\n",
      "in any case I will be there \n",
      "\n"
     ]
    }
   ],
   "source": [
    "#there can be multiple except blocks\n",
    "\n",
    "def askforint():\n",
    "    while(True):\n",
    "        try:\n",
    "            a=int(input('Enter an integer '))\n",
    "            b=4/a\n",
    "        except IOError as e:\n",
    "            print('IOError = ',e)\n",
    "        except ValueError as e:\n",
    "            print('ValueError = ',e)\n",
    "        except FileNotFoundError as e:\n",
    "            print('FileNotFoundError = ',e)\n",
    "        except ArithmeticError as e:\n",
    "            print('ArithmeticError = ',e)\n",
    "        else:\n",
    "            print('try is successfull')\n",
    "            break\n",
    "        finally:\n",
    "            print('in any case I will be there \\n')\n",
    "askforint()\n",
    "\n",
    "#now try with input 0, even after we have except block in our code, we are still getting error, this is bcz we haven't added the kind of exception we are facing(that is, ArithmeticError)"
   ]
  },
  {
   "cell_type": "code",
   "execution_count": null,
   "metadata": {},
   "outputs": [],
   "source": [
    "\n",
    "def askforint():\n",
    "    while(True):\n",
    "        try:\n",
    "            a=int(input('Enter an integer '))\n",
    "            b=4/a\n",
    "        except ArithmeticError as e:\n",
    "            print('ArithmeticError = ',e)\n",
    "        except ZeroDivisionError as e:\n",
    "            print('Zero division error = ',e)\n",
    "        else:\n",
    "            print('try is successfull')\n",
    "            break\n",
    "        finally:\n",
    "            print('in any case I will be there \\n')\n",
    "askforint()\n",
    "\n",
    "#now try with input 0, even after this is zero division error it stopped at arithmetic error, bcz both are able to handle this error and whichever handles first(written frst), exception will stop when it gets a handler"
   ]
  },
  {
   "cell_type": "code",
   "execution_count": 9,
   "metadata": {},
   "outputs": [
    {
     "name": "stdout",
     "output_type": "stream",
     "text": [
      "Enter an integer 0\n",
      "error is =  division by zero\n",
      "in any case I will be there \n",
      "\n",
      "Enter an integer 6\n",
      "try is successfull\n",
      "in any case I will be there \n",
      "\n"
     ]
    }
   ],
   "source": [
    "#so many times we don't know what kind of error are we going to get, and thus we use superclass of exceptions that is Exception instead of using all these specific exceptions\n",
    "\n",
    "def askforint():\n",
    "    while(True):\n",
    "        try:\n",
    "            a=int(input('Enter an integer '))\n",
    "            b=4/a\n",
    "        except Exception as e:\n",
    "            print('error is = ',e)\n",
    "        else:\n",
    "            print('try is successfull')\n",
    "            break\n",
    "        finally:\n",
    "            print('in any case I will be there \\n')\n",
    "askforint()\n",
    "\n"
   ]
  },
  {
   "cell_type": "markdown",
   "metadata": {},
   "source": [
    "### custom exceptions\n",
    "raise"
   ]
  },
  {
   "cell_type": "code",
   "execution_count": 8,
   "metadata": {},
   "outputs": [
    {
     "name": "stdout",
     "output_type": "stream",
     "text": [
      "Enter 7\n",
      "Error is =  this is my custom error \n"
     ]
    }
   ],
   "source": [
    "#like if I want to raise an error when input is > 6\n",
    "try:\n",
    "    n=int(input('Enter '))\n",
    "    if n>6:\n",
    "        raise Exception('this is my custom error ')\n",
    "    else:\n",
    "        print('correct input <= six ')\n",
    "except Exception as e:\n",
    "    print('Error is = ',e)"
   ]
  },
  {
   "cell_type": "markdown",
   "metadata": {},
   "source": [
    "**QUESTION**\n",
    "\n",
    "Create a file named exception1 in your current directory.\n",
    "\n",
    "make ex1.ipynb and a module ex2.py and a logger file even.log in exception1\n",
    "\n",
    "in ex2.py write logic to get even numbers till n(even_num function)\n",
    "\n",
    "in ex1.ipynb ask for input(n), if its integer then call even_num(n), if not then log the exception in logger file"
   ]
  },
  {
   "cell_type": "code",
   "execution_count": null,
   "metadata": {},
   "outputs": [],
   "source": []
  }
 ],
 "metadata": {
  "kernelspec": {
   "display_name": "Python 3",
   "language": "python",
   "name": "python3"
  },
  "language_info": {
   "codemirror_mode": {
    "name": "ipython",
    "version": 3
   },
   "file_extension": ".py",
   "mimetype": "text/x-python",
   "name": "python",
   "nbconvert_exporter": "python",
   "pygments_lexer": "ipython3",
   "version": "3.7.1"
  }
 },
 "nbformat": 4,
 "nbformat_minor": 2
}
