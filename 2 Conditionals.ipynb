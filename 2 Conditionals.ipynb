{
 "cells": [
  {
   "cell_type": "markdown",
   "metadata": {},
   "source": [
    "# Conditionals\n",
    "\n",
    "Conditions are 'True' or 'False'"
   ]
  },
  {
   "cell_type": "code",
   "execution_count": 1,
   "metadata": {},
   "outputs": [
    {
     "name": "stdout",
     "output_type": "stream",
     "text": [
      "Enter number less than 34--56\n"
     ]
    }
   ],
   "source": [
    "a=int(input('Enter number less than 34--'))"
   ]
  },
  {
   "cell_type": "markdown",
   "metadata": {},
   "source": [
    "## IF ELSE"
   ]
  },
  {
   "cell_type": "markdown",
   "metadata": {},
   "source": [
    "### if"
   ]
  },
  {
   "cell_type": "code",
   "execution_count": 2,
   "metadata": {},
   "outputs": [],
   "source": [
    "#if, else, pass are keywords\n",
    "if a<34:\n",
    "    pass    #when you don't want to write body, then simply use 'pass'"
   ]
  },
  {
   "cell_type": "markdown",
   "metadata": {},
   "source": [
    "**Note: Don't make indentation errors**"
   ]
  },
  {
   "cell_type": "code",
   "execution_count": 3,
   "metadata": {},
   "outputs": [
    {
     "name": "stdout",
     "output_type": "stream",
     "text": [
      "Enter a 5\n",
      "a is less than 50 and a= 5\n"
     ]
    }
   ],
   "source": [
    "a=int(input('Enter a '))\n",
    "if a<50:\n",
    "    print('a is less than 50 and a=',a)"
   ]
  },
  {
   "cell_type": "code",
   "execution_count": 4,
   "metadata": {},
   "outputs": [
    {
     "name": "stdout",
     "output_type": "stream",
     "text": [
      "if block will run, when if condition is true\n"
     ]
    }
   ],
   "source": [
    "if True:\n",
    "    print('if block will run, when if condition is true')"
   ]
  },
  {
   "cell_type": "markdown",
   "metadata": {},
   "source": [
    "### if-else\n",
    "Either if or else will get executed"
   ]
  },
  {
   "cell_type": "code",
   "execution_count": 5,
   "metadata": {},
   "outputs": [
    {
     "name": "stdout",
     "output_type": "stream",
     "text": [
      "when if condition is False, then it runs else block\n"
     ]
    }
   ],
   "source": [
    "if False:\n",
    "    print(\"Don't run\")\n",
    "else:\n",
    "    print('when if condition is False, then it runs else block')"
   ]
  },
  {
   "cell_type": "markdown",
   "metadata": {},
   "source": [
    "### if-elif...-else\n",
    "Either if or elif or else will get executed"
   ]
  },
  {
   "cell_type": "code",
   "execution_count": 6,
   "metadata": {},
   "outputs": [
    {
     "name": "stdout",
     "output_type": "stream",
     "text": [
      "Enter an integer 424\n",
      "greater than 50\n"
     ]
    }
   ],
   "source": [
    "a=int(input('Enter an integer '))\n",
    "if a<50:\n",
    "    print('less than 50')\n",
    "elif a>50:\n",
    "    print('greater than 50')\n",
    "else:\n",
    "    print('equal to 50')"
   ]
  },
  {
   "cell_type": "markdown",
   "metadata": {},
   "source": [
    "### Note: code runs from up to down"
   ]
  },
  {
   "cell_type": "code",
   "execution_count": 7,
   "metadata": {},
   "outputs": [
    {
     "name": "stdout",
     "output_type": "stream",
     "text": [
      "Enter your salary45\n",
      "car\n"
     ]
    }
   ],
   "source": [
    "salary=int(input('Enter your salary'))\n",
    "if salary<1000:\n",
    "    print('car')\n",
    "elif salary<500:\n",
    "    print('bike')\n",
    "elif salary<100:\n",
    "    print('bicycle')\n",
    "else:\n",
    "    print('saving')"
   ]
  },
  {
   "cell_type": "code",
   "execution_count": 9,
   "metadata": {},
   "outputs": [
    {
     "name": "stdout",
     "output_type": "stream",
     "text": [
      "Enter your salary 42\n",
      "saving\n"
     ]
    }
   ],
   "source": [
    "salary=int(input('Enter your salary '))\n",
    "if salary<100:\n",
    "    print('saving')\n",
    "elif salary<500:\n",
    "    print('anything')\n",
    "elif salary<1000:\n",
    "    print('bike')\n",
    "else:\n",
    "    print('car')"
   ]
  },
  {
   "cell_type": "markdown",
   "metadata": {},
   "source": [
    "### nested if else\n",
    "Any number of hierarcy possible"
   ]
  },
  {
   "cell_type": "code",
   "execution_count": 10,
   "metadata": {},
   "outputs": [
    {
     "name": "stdout",
     "output_type": "stream",
     "text": [
      "Enter your salary 657\n"
     ]
    }
   ],
   "source": [
    "salary=int(input('Enter your salary '))\n",
    "if(salary>1000):\n",
    "    print('good salary')\n",
    "    if(salary>50000):\n",
    "        print('BMW')\n",
    "        if(True):\n",
    "            print('Great BMW')\n",
    "        else:\n",
    "            print('Fake')\n",
    "    elif(salary>10000):\n",
    "        print('Maruti')\n",
    "    elif(salary>5000):\n",
    "        print('Nano')\n",
    "    else:\n",
    "        print('Sorry')"
   ]
  },
  {
   "cell_type": "markdown",
   "metadata": {},
   "source": [
    "### Multiple conditions\n",
    "**AND**\n",
    "\n",
    "0 0 = 0\n",
    "\n",
    "0 1 = 0\n",
    "\n",
    "1 0 = 0\n",
    "\n",
    "1 1 = 1\n",
    "\n",
    "**OR**\n",
    "\n",
    "0 0 = 0\n",
    "\n",
    "0 1 = 1\n",
    "\n",
    "1 0 = 1\n",
    "\n",
    "1 1 = 1"
   ]
  },
  {
   "cell_type": "markdown",
   "metadata": {},
   "source": [
    "### AND\n",
    "Resullt is 'True(1)' only when all the conditions are true"
   ]
  },
  {
   "cell_type": "code",
   "execution_count": 11,
   "metadata": {},
   "outputs": [
    {
     "name": "stdout",
     "output_type": "stream",
     "text": [
      "Valid\n"
     ]
    }
   ],
   "source": [
    "#check multiple conditions\n",
    "a, b = 10, 20\n",
    "if a==10 and b==20:\n",
    "    print('Valid')"
   ]
  },
  {
   "cell_type": "code",
   "execution_count": 12,
   "metadata": {},
   "outputs": [
    {
     "name": "stdout",
     "output_type": "stream",
     "text": [
      "not valid\n"
     ]
    }
   ],
   "source": [
    "if a==10 and b>20:\n",
    "    print('Valid')\n",
    "else:\n",
    "    print('not valid')"
   ]
  },
  {
   "cell_type": "markdown",
   "metadata": {},
   "source": [
    "### OR\n",
    "Resullt is 'True(1)' even if any one of the condition is true"
   ]
  },
  {
   "cell_type": "code",
   "execution_count": 13,
   "metadata": {},
   "outputs": [
    {
     "name": "stdout",
     "output_type": "stream",
     "text": [
      "Valid\n"
     ]
    }
   ],
   "source": [
    "if a==10 or b>20:\n",
    "    print('Valid')\n",
    "else:\n",
    "    print('not valid')"
   ]
  },
  {
   "cell_type": "markdown",
   "metadata": {},
   "source": [
    "**Q. takea input from your keyboard as your first name and last name and then try to validate of write multiple condition by yourself**"
   ]
  },
  {
   "cell_type": "code",
   "execution_count": 16,
   "metadata": {},
   "outputs": [
    {
     "name": "stdout",
     "output_type": "stream",
     "text": [
      "Enter first name Madhu\n",
      "Enter last name Pincha\n",
      "Correct name\n"
     ]
    }
   ],
   "source": [
    "first_name=input('Enter first name ')\n",
    "last_name=input('Enter last name ')\n",
    "\n",
    "if first_name=='Madhu' and last_name=='Pincha':\n",
    "    print('Correct name')\n",
    "else:\n",
    "    print('Incorrect name')"
   ]
  }
 ],
 "metadata": {
  "kernelspec": {
   "display_name": "Python 3",
   "language": "python",
   "name": "python3"
  },
  "language_info": {
   "codemirror_mode": {
    "name": "ipython",
    "version": 3
   },
   "file_extension": ".py",
   "mimetype": "text/x-python",
   "name": "python",
   "nbconvert_exporter": "python",
   "pygments_lexer": "ipython3",
   "version": "3.7.1"
  }
 },
 "nbformat": 4,
 "nbformat_minor": 2
}
